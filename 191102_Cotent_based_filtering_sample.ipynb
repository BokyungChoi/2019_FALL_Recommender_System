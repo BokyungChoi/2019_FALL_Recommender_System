{
  "nbformat": 4,
  "nbformat_minor": 0,
  "metadata": {
    "colab": {
      "name": "1102Cotent-based_filtering.ipynb",
      "provenance": [],
      "collapsed_sections": [
        "DHJ1YAWRZui0",
        "LNjWa1asylsj",
        "FbWjf7G50Tlu",
        "CvoCvaGy4-0V"
      ],
      "include_colab_link": true
    },
    "kernelspec": {
      "name": "python3",
      "display_name": "Python 3"
    },
    "accelerator": "GPU"
  },
  "cells": [
    {
      "cell_type": "markdown",
      "metadata": {
        "id": "view-in-github",
        "colab_type": "text"
      },
      "source": [
        "<a href=\"https://colab.research.google.com/github/BokyungChoi/2019_Fall_Recommender_System/blob/master/191102_Cotent_based_filtering_sample.ipynb\" target=\"_parent\"><img src=\"https://colab.research.google.com/assets/colab-badge.svg\" alt=\"Open In Colab\"/></a>"
      ]
    },
    {
      "cell_type": "markdown",
      "metadata": {
        "id": "DHJ1YAWRZui0",
        "colab_type": "text"
      },
      "source": [
        "### Load Data\n",
        "데이터셋 설명: \n",
        "- shared_articles.csv \n",
        "1. CONTENT SHARED: The article was shared in the platform and is available for users.\n",
        "2. CONTENT REMOVED: The article was removed from the platform and not available for further recommendation.\n",
        "* users_interactions.csv\n",
        "1. VIEW: The user has opened the article.\n",
        "2. LIKE: The user has liked the article.\n",
        "3. COMMENT CREATED: The user created a comment in the article.\n",
        "FOLLOW: The user chose to be notified on any new comment in the article.\n",
        "4. BOOKMARK: The user has bookmarked the article for easy return in the future."
      ]
    },
    {
      "cell_type": "code",
      "metadata": {
        "id": "Ody7QeyuYvqB",
        "colab_type": "code",
        "colab": {}
      },
      "source": [
        "import numpy as np\n",
        "import scipy\n",
        "import pandas as pd\n",
        "import math\n",
        "import random\n",
        "import sklearn\n",
        "from nltk.corpus import stopwords\n",
        "from sklearn.model_selection import train_test_split\n",
        "from sklearn.feature_extraction.text import TfidfVectorizer\n",
        "from sklearn.metrics.pairwise import cosine_similarity\n",
        "from scipy.sparse.linalg import svds\n",
        "import matplotlib.pyplot as plt"
      ],
      "execution_count": 0,
      "outputs": []
    },
    {
      "cell_type": "code",
      "metadata": {
        "id": "7XXDhw7AwkoD",
        "colab_type": "code",
        "outputId": "9243089a-48bb-42ae-bf01-283510c0a4bc",
        "colab": {
          "base_uri": "https://localhost:8080/",
          "height": 122
        }
      },
      "source": [
        "from google.colab import drive\n",
        "drive.mount('/content/drive')"
      ],
      "execution_count": 0,
      "outputs": [
        {
          "output_type": "stream",
          "text": [
            "Go to this URL in a browser: https://accounts.google.com/o/oauth2/auth?client_id=947318989803-6bn6qk8qdgf4n4g3pfee6491hc0brc4i.apps.googleusercontent.com&redirect_uri=urn%3Aietf%3Awg%3Aoauth%3A2.0%3Aoob&scope=email%20https%3A%2F%2Fwww.googleapis.com%2Fauth%2Fdocs.test%20https%3A%2F%2Fwww.googleapis.com%2Fauth%2Fdrive%20https%3A%2F%2Fwww.googleapis.com%2Fauth%2Fdrive.photos.readonly%20https%3A%2F%2Fwww.googleapis.com%2Fauth%2Fpeopleapi.readonly&response_type=code\n",
            "\n",
            "Enter your authorization code:\n",
            "··········\n",
            "Mounted at /content/drive\n"
          ],
          "name": "stdout"
        }
      ]
    },
    {
      "cell_type": "code",
      "metadata": {
        "id": "2a0-9hxQw6Ya",
        "colab_type": "code",
        "outputId": "d59e43a5-20a3-4d3b-efd8-124209895438",
        "colab": {
          "base_uri": "https://localhost:8080/",
          "height": 615
        }
      },
      "source": [
        "articles_df = pd.read_csv('/content/drive/My Drive/Colab Notebooks/articles-sharing-reading-from-cit-deskdrop/shared_articles.csv')\n",
        "articles_df = articles_df[articles_df['eventType'] == 'CONTENT SHARED']\n",
        "articles_df.head(5)"
      ],
      "execution_count": 0,
      "outputs": [
        {
          "output_type": "execute_result",
          "data": {
            "text/html": [
              "<div>\n",
              "<style scoped>\n",
              "    .dataframe tbody tr th:only-of-type {\n",
              "        vertical-align: middle;\n",
              "    }\n",
              "\n",
              "    .dataframe tbody tr th {\n",
              "        vertical-align: top;\n",
              "    }\n",
              "\n",
              "    .dataframe thead th {\n",
              "        text-align: right;\n",
              "    }\n",
              "</style>\n",
              "<table border=\"1\" class=\"dataframe\">\n",
              "  <thead>\n",
              "    <tr style=\"text-align: right;\">\n",
              "      <th></th>\n",
              "      <th>timestamp</th>\n",
              "      <th>eventType</th>\n",
              "      <th>contentId</th>\n",
              "      <th>authorPersonId</th>\n",
              "      <th>authorSessionId</th>\n",
              "      <th>authorUserAgent</th>\n",
              "      <th>authorRegion</th>\n",
              "      <th>authorCountry</th>\n",
              "      <th>contentType</th>\n",
              "      <th>url</th>\n",
              "      <th>title</th>\n",
              "      <th>text</th>\n",
              "      <th>lang</th>\n",
              "    </tr>\n",
              "  </thead>\n",
              "  <tbody>\n",
              "    <tr>\n",
              "      <th>1</th>\n",
              "      <td>1459193988</td>\n",
              "      <td>CONTENT SHARED</td>\n",
              "      <td>-4110354420726924665</td>\n",
              "      <td>4340306774493623681</td>\n",
              "      <td>8940341205206233829</td>\n",
              "      <td>NaN</td>\n",
              "      <td>NaN</td>\n",
              "      <td>NaN</td>\n",
              "      <td>HTML</td>\n",
              "      <td>http://www.nytimes.com/2016/03/28/business/dea...</td>\n",
              "      <td>Ethereum, a Virtual Currency, Enables Transact...</td>\n",
              "      <td>All of this work is still very early. The firs...</td>\n",
              "      <td>en</td>\n",
              "    </tr>\n",
              "    <tr>\n",
              "      <th>2</th>\n",
              "      <td>1459194146</td>\n",
              "      <td>CONTENT SHARED</td>\n",
              "      <td>-7292285110016212249</td>\n",
              "      <td>4340306774493623681</td>\n",
              "      <td>8940341205206233829</td>\n",
              "      <td>NaN</td>\n",
              "      <td>NaN</td>\n",
              "      <td>NaN</td>\n",
              "      <td>HTML</td>\n",
              "      <td>http://cointelegraph.com/news/bitcoin-future-w...</td>\n",
              "      <td>Bitcoin Future: When GBPcoin of Branson Wins O...</td>\n",
              "      <td>The alarm clock wakes me at 8:00 with stream o...</td>\n",
              "      <td>en</td>\n",
              "    </tr>\n",
              "    <tr>\n",
              "      <th>3</th>\n",
              "      <td>1459194474</td>\n",
              "      <td>CONTENT SHARED</td>\n",
              "      <td>-6151852268067518688</td>\n",
              "      <td>3891637997717104548</td>\n",
              "      <td>-1457532940883382585</td>\n",
              "      <td>NaN</td>\n",
              "      <td>NaN</td>\n",
              "      <td>NaN</td>\n",
              "      <td>HTML</td>\n",
              "      <td>https://cloudplatform.googleblog.com/2016/03/G...</td>\n",
              "      <td>Google Data Center 360° Tour</td>\n",
              "      <td>We're excited to share the Google Data Center ...</td>\n",
              "      <td>en</td>\n",
              "    </tr>\n",
              "    <tr>\n",
              "      <th>4</th>\n",
              "      <td>1459194497</td>\n",
              "      <td>CONTENT SHARED</td>\n",
              "      <td>2448026894306402386</td>\n",
              "      <td>4340306774493623681</td>\n",
              "      <td>8940341205206233829</td>\n",
              "      <td>NaN</td>\n",
              "      <td>NaN</td>\n",
              "      <td>NaN</td>\n",
              "      <td>HTML</td>\n",
              "      <td>https://bitcoinmagazine.com/articles/ibm-wants...</td>\n",
              "      <td>IBM Wants to \"Evolve the Internet\" With Blockc...</td>\n",
              "      <td>The Aite Group projects the blockchain market ...</td>\n",
              "      <td>en</td>\n",
              "    </tr>\n",
              "    <tr>\n",
              "      <th>5</th>\n",
              "      <td>1459194522</td>\n",
              "      <td>CONTENT SHARED</td>\n",
              "      <td>-2826566343807132236</td>\n",
              "      <td>4340306774493623681</td>\n",
              "      <td>8940341205206233829</td>\n",
              "      <td>NaN</td>\n",
              "      <td>NaN</td>\n",
              "      <td>NaN</td>\n",
              "      <td>HTML</td>\n",
              "      <td>http://www.coindesk.com/ieee-blockchain-oxford...</td>\n",
              "      <td>IEEE to Talk Blockchain at Cloud Computing Oxf...</td>\n",
              "      <td>One of the largest and oldest organizations fo...</td>\n",
              "      <td>en</td>\n",
              "    </tr>\n",
              "  </tbody>\n",
              "</table>\n",
              "</div>"
            ],
            "text/plain": [
              "    timestamp  ... lang\n",
              "1  1459193988  ...   en\n",
              "2  1459194146  ...   en\n",
              "3  1459194474  ...   en\n",
              "4  1459194497  ...   en\n",
              "5  1459194522  ...   en\n",
              "\n",
              "[5 rows x 13 columns]"
            ]
          },
          "metadata": {
            "tags": []
          },
          "execution_count": 7
        }
      ]
    },
    {
      "cell_type": "code",
      "metadata": {
        "id": "Z31Ktaj1xHeg",
        "colab_type": "code",
        "outputId": "4347d159-90f6-48e0-8361-82aaf808c5af",
        "colab": {
          "base_uri": "https://localhost:8080/",
          "height": 275
        }
      },
      "source": [
        "interactions_df = pd.read_csv('/content/drive/My Drive/Colab Notebooks/articles-sharing-reading-from-cit-deskdrop/users_interactions.csv')\n",
        "interactions_df.head(5)"
      ],
      "execution_count": 0,
      "outputs": [
        {
          "output_type": "execute_result",
          "data": {
            "text/html": [
              "<div>\n",
              "<style scoped>\n",
              "    .dataframe tbody tr th:only-of-type {\n",
              "        vertical-align: middle;\n",
              "    }\n",
              "\n",
              "    .dataframe tbody tr th {\n",
              "        vertical-align: top;\n",
              "    }\n",
              "\n",
              "    .dataframe thead th {\n",
              "        text-align: right;\n",
              "    }\n",
              "</style>\n",
              "<table border=\"1\" class=\"dataframe\">\n",
              "  <thead>\n",
              "    <tr style=\"text-align: right;\">\n",
              "      <th></th>\n",
              "      <th>timestamp</th>\n",
              "      <th>eventType</th>\n",
              "      <th>contentId</th>\n",
              "      <th>personId</th>\n",
              "      <th>sessionId</th>\n",
              "      <th>userAgent</th>\n",
              "      <th>userRegion</th>\n",
              "      <th>userCountry</th>\n",
              "    </tr>\n",
              "  </thead>\n",
              "  <tbody>\n",
              "    <tr>\n",
              "      <th>0</th>\n",
              "      <td>1465413032</td>\n",
              "      <td>VIEW</td>\n",
              "      <td>-3499919498720038879</td>\n",
              "      <td>-8845298781299428018</td>\n",
              "      <td>1264196770339959068</td>\n",
              "      <td>NaN</td>\n",
              "      <td>NaN</td>\n",
              "      <td>NaN</td>\n",
              "    </tr>\n",
              "    <tr>\n",
              "      <th>1</th>\n",
              "      <td>1465412560</td>\n",
              "      <td>VIEW</td>\n",
              "      <td>8890720798209849691</td>\n",
              "      <td>-1032019229384696495</td>\n",
              "      <td>3621737643587579081</td>\n",
              "      <td>Mozilla/5.0 (Macintosh; Intel Mac OS X 10_11_2...</td>\n",
              "      <td>NY</td>\n",
              "      <td>US</td>\n",
              "    </tr>\n",
              "    <tr>\n",
              "      <th>2</th>\n",
              "      <td>1465416190</td>\n",
              "      <td>VIEW</td>\n",
              "      <td>310515487419366995</td>\n",
              "      <td>-1130272294246983140</td>\n",
              "      <td>2631864456530402479</td>\n",
              "      <td>NaN</td>\n",
              "      <td>NaN</td>\n",
              "      <td>NaN</td>\n",
              "    </tr>\n",
              "    <tr>\n",
              "      <th>3</th>\n",
              "      <td>1465413895</td>\n",
              "      <td>FOLLOW</td>\n",
              "      <td>310515487419366995</td>\n",
              "      <td>344280948527967603</td>\n",
              "      <td>-3167637573980064150</td>\n",
              "      <td>NaN</td>\n",
              "      <td>NaN</td>\n",
              "      <td>NaN</td>\n",
              "    </tr>\n",
              "    <tr>\n",
              "      <th>4</th>\n",
              "      <td>1465412290</td>\n",
              "      <td>VIEW</td>\n",
              "      <td>-7820640624231356730</td>\n",
              "      <td>-445337111692715325</td>\n",
              "      <td>5611481178424124714</td>\n",
              "      <td>NaN</td>\n",
              "      <td>NaN</td>\n",
              "      <td>NaN</td>\n",
              "    </tr>\n",
              "  </tbody>\n",
              "</table>\n",
              "</div>"
            ],
            "text/plain": [
              "    timestamp eventType  ...  userRegion  userCountry\n",
              "0  1465413032      VIEW  ...         NaN          NaN\n",
              "1  1465412560      VIEW  ...          NY           US\n",
              "2  1465416190      VIEW  ...         NaN          NaN\n",
              "3  1465413895    FOLLOW  ...         NaN          NaN\n",
              "4  1465412290      VIEW  ...         NaN          NaN\n",
              "\n",
              "[5 rows x 8 columns]"
            ]
          },
          "metadata": {
            "tags": []
          },
          "execution_count": 9
        }
      ]
    },
    {
      "cell_type": "markdown",
      "metadata": {
        "id": "LNjWa1asylsj",
        "colab_type": "text"
      },
      "source": [
        "### Data preprocessing and Embedding"
      ]
    },
    {
      "cell_type": "code",
      "metadata": {
        "id": "nTQxYSgIzdF-",
        "colab_type": "code",
        "outputId": "d5b9e9cd-07bf-45fe-f6db-a243151fc043",
        "colab": {
          "base_uri": "https://localhost:8080/",
          "height": 275
        }
      },
      "source": [
        "interactions_df.head()"
      ],
      "execution_count": 0,
      "outputs": [
        {
          "output_type": "execute_result",
          "data": {
            "text/html": [
              "<div>\n",
              "<style scoped>\n",
              "    .dataframe tbody tr th:only-of-type {\n",
              "        vertical-align: middle;\n",
              "    }\n",
              "\n",
              "    .dataframe tbody tr th {\n",
              "        vertical-align: top;\n",
              "    }\n",
              "\n",
              "    .dataframe thead th {\n",
              "        text-align: right;\n",
              "    }\n",
              "</style>\n",
              "<table border=\"1\" class=\"dataframe\">\n",
              "  <thead>\n",
              "    <tr style=\"text-align: right;\">\n",
              "      <th></th>\n",
              "      <th>timestamp</th>\n",
              "      <th>eventType</th>\n",
              "      <th>contentId</th>\n",
              "      <th>personId</th>\n",
              "      <th>sessionId</th>\n",
              "      <th>userAgent</th>\n",
              "      <th>userRegion</th>\n",
              "      <th>userCountry</th>\n",
              "      <th>eventStrength</th>\n",
              "    </tr>\n",
              "  </thead>\n",
              "  <tbody>\n",
              "    <tr>\n",
              "      <th>0</th>\n",
              "      <td>1465413032</td>\n",
              "      <td>VIEW</td>\n",
              "      <td>-3499919498720038879</td>\n",
              "      <td>-8845298781299428018</td>\n",
              "      <td>1264196770339959068</td>\n",
              "      <td>NaN</td>\n",
              "      <td>NaN</td>\n",
              "      <td>NaN</td>\n",
              "      <td>1.0</td>\n",
              "    </tr>\n",
              "    <tr>\n",
              "      <th>1</th>\n",
              "      <td>1465412560</td>\n",
              "      <td>VIEW</td>\n",
              "      <td>8890720798209849691</td>\n",
              "      <td>-1032019229384696495</td>\n",
              "      <td>3621737643587579081</td>\n",
              "      <td>Mozilla/5.0 (Macintosh; Intel Mac OS X 10_11_2...</td>\n",
              "      <td>NY</td>\n",
              "      <td>US</td>\n",
              "      <td>1.0</td>\n",
              "    </tr>\n",
              "    <tr>\n",
              "      <th>2</th>\n",
              "      <td>1465416190</td>\n",
              "      <td>VIEW</td>\n",
              "      <td>310515487419366995</td>\n",
              "      <td>-1130272294246983140</td>\n",
              "      <td>2631864456530402479</td>\n",
              "      <td>NaN</td>\n",
              "      <td>NaN</td>\n",
              "      <td>NaN</td>\n",
              "      <td>1.0</td>\n",
              "    </tr>\n",
              "    <tr>\n",
              "      <th>3</th>\n",
              "      <td>1465413895</td>\n",
              "      <td>FOLLOW</td>\n",
              "      <td>310515487419366995</td>\n",
              "      <td>344280948527967603</td>\n",
              "      <td>-3167637573980064150</td>\n",
              "      <td>NaN</td>\n",
              "      <td>NaN</td>\n",
              "      <td>NaN</td>\n",
              "      <td>3.0</td>\n",
              "    </tr>\n",
              "    <tr>\n",
              "      <th>4</th>\n",
              "      <td>1465412290</td>\n",
              "      <td>VIEW</td>\n",
              "      <td>-7820640624231356730</td>\n",
              "      <td>-445337111692715325</td>\n",
              "      <td>5611481178424124714</td>\n",
              "      <td>NaN</td>\n",
              "      <td>NaN</td>\n",
              "      <td>NaN</td>\n",
              "      <td>1.0</td>\n",
              "    </tr>\n",
              "  </tbody>\n",
              "</table>\n",
              "</div>"
            ],
            "text/plain": [
              "    timestamp eventType  ...  userCountry  eventStrength\n",
              "0  1465413032      VIEW  ...          NaN            1.0\n",
              "1  1465412560      VIEW  ...           US            1.0\n",
              "2  1465416190      VIEW  ...          NaN            1.0\n",
              "3  1465413895    FOLLOW  ...          NaN            3.0\n",
              "4  1465412290      VIEW  ...          NaN            1.0\n",
              "\n",
              "[5 rows x 9 columns]"
            ]
          },
          "metadata": {
            "tags": []
          },
          "execution_count": 16
        }
      ]
    },
    {
      "cell_type": "code",
      "metadata": {
        "id": "xUhS1WTMyykL",
        "colab_type": "code",
        "colab": {}
      },
      "source": [
        "# 가중치 설정해 넣는 것\n",
        "event_type_strength = {\n",
        "   'VIEW': 1.0,\n",
        "   'LIKE': 2.0, \n",
        "   'BOOKMARK': 2.5, \n",
        "   'FOLLOW': 3.0,\n",
        "   'COMMENT CREATED': 4.0,   \n",
        "} "
      ],
      "execution_count": 0,
      "outputs": []
    },
    {
      "cell_type": "code",
      "metadata": {
        "id": "KD84S2Jqy531",
        "colab_type": "code",
        "colab": {}
      },
      "source": [
        "interactions_df['eventStrength'] = interactions_df['eventType'].apply(lambda x: event_type_strength[x])"
      ],
      "execution_count": 0,
      "outputs": []
    },
    {
      "cell_type": "markdown",
      "metadata": {
        "id": "4exCV1_uNUXx",
        "colab_type": "text"
      },
      "source": [
        "> naive 하게 인터렉션 5 이하는 제거, 콜드 스타트 방지"
      ]
    },
    {
      "cell_type": "code",
      "metadata": {
        "id": "kuKpVQGpzOTQ",
        "colab_type": "code",
        "outputId": "0c1e72bf-4963-4c8c-bb15-67488b84f418",
        "colab": {
          "base_uri": "https://localhost:8080/",
          "height": 51
        }
      },
      "source": [
        "# cold start prevention\n",
        "# keeping in dataset only users with at least 5 interactions (단순 컷\u001d)\n",
        "users_interactions_count_df = interactions_df.groupby(['personId', 'contentId']).size().groupby('personId').size()\n",
        "\n",
        "print('# users: %d' % len(users_interactions_count_df))\n",
        "\n",
        "users_with_enough_interactions_df = users_interactions_count_df[users_interactions_count_df >= 5].reset_index()[['personId']]\n",
        "\n",
        "print('# users with at least 5 interactions: %d' % len(users_with_enough_interactions_df))"
      ],
      "execution_count": 0,
      "outputs": [
        {
          "output_type": "stream",
          "text": [
            "# users: 1895\n",
            "# users with at least 5 interactions: 1140\n"
          ],
          "name": "stdout"
        }
      ]
    },
    {
      "cell_type": "code",
      "metadata": {
        "id": "ckli-UEuzzxg",
        "colab_type": "code",
        "outputId": "7662f1d1-5bef-40e2-d0a1-545d77a95117",
        "colab": {
          "base_uri": "https://localhost:8080/",
          "height": 136
        }
      },
      "source": [
        "users_interactions_count_df.head(5)"
      ],
      "execution_count": 0,
      "outputs": [
        {
          "output_type": "execute_result",
          "data": {
            "text/plain": [
              "personId\n",
              "-9223121837663643404    43\n",
              "-9212075797126931087     5\n",
              "-9207251133131336884     7\n",
              "-9199575329909162940    11\n",
              "-9196668942822132778     7\n",
              "dtype: int64"
            ]
          },
          "metadata": {
            "tags": []
          },
          "execution_count": 18
        }
      ]
    },
    {
      "cell_type": "code",
      "metadata": {
        "id": "BNg5i06Qz2Aw",
        "colab_type": "code",
        "outputId": "359f2bba-cc25-4836-cf95-464d730e9586",
        "colab": {
          "base_uri": "https://localhost:8080/",
          "height": 204
        }
      },
      "source": [
        "users_with_enough_interactions_df.head(5)"
      ],
      "execution_count": 0,
      "outputs": [
        {
          "output_type": "execute_result",
          "data": {
            "text/html": [
              "<div>\n",
              "<style scoped>\n",
              "    .dataframe tbody tr th:only-of-type {\n",
              "        vertical-align: middle;\n",
              "    }\n",
              "\n",
              "    .dataframe tbody tr th {\n",
              "        vertical-align: top;\n",
              "    }\n",
              "\n",
              "    .dataframe thead th {\n",
              "        text-align: right;\n",
              "    }\n",
              "</style>\n",
              "<table border=\"1\" class=\"dataframe\">\n",
              "  <thead>\n",
              "    <tr style=\"text-align: right;\">\n",
              "      <th></th>\n",
              "      <th>personId</th>\n",
              "    </tr>\n",
              "  </thead>\n",
              "  <tbody>\n",
              "    <tr>\n",
              "      <th>0</th>\n",
              "      <td>-9223121837663643404</td>\n",
              "    </tr>\n",
              "    <tr>\n",
              "      <th>1</th>\n",
              "      <td>-9212075797126931087</td>\n",
              "    </tr>\n",
              "    <tr>\n",
              "      <th>2</th>\n",
              "      <td>-9207251133131336884</td>\n",
              "    </tr>\n",
              "    <tr>\n",
              "      <th>3</th>\n",
              "      <td>-9199575329909162940</td>\n",
              "    </tr>\n",
              "    <tr>\n",
              "      <th>4</th>\n",
              "      <td>-9196668942822132778</td>\n",
              "    </tr>\n",
              "  </tbody>\n",
              "</table>\n",
              "</div>"
            ],
            "text/plain": [
              "              personId\n",
              "0 -9223121837663643404\n",
              "1 -9212075797126931087\n",
              "2 -9207251133131336884\n",
              "3 -9199575329909162940\n",
              "4 -9196668942822132778"
            ]
          },
          "metadata": {
            "tags": []
          },
          "execution_count": 19
        }
      ]
    },
    {
      "cell_type": "code",
      "metadata": {
        "id": "-xoj4ZBjz4yI",
        "colab_type": "code",
        "outputId": "8a3a3384-3bfe-41e0-c1d3-53cea576ec30",
        "colab": {
          "base_uri": "https://localhost:8080/",
          "height": 51
        }
      },
      "source": [
        "print('# of interactions: %d' % len(interactions_df))\n",
        "interactions_from_selected_users_df = interactions_df.merge(users_with_enough_interactions_df, \n",
        "               how = 'right',\n",
        "               left_on = 'personId',\n",
        "               right_on = 'personId')\n",
        "print('# of interactions from users with at least 5 interactions: %d' % len(interactions_from_selected_users_df))"
      ],
      "execution_count": 0,
      "outputs": [
        {
          "output_type": "stream",
          "text": [
            "# of interactions: 72312\n",
            "# of interactions from users with at least 5 interactions: 69868\n"
          ],
          "name": "stdout"
        }
      ]
    },
    {
      "cell_type": "markdown",
      "metadata": {
        "id": "Q-jhhIhVNLR1",
        "colab_type": "text"
      },
      "source": [
        "> 여러가지 interaction 지표를 가중치를 사용해 eventstrength 라는 지표로 집약"
      ]
    },
    {
      "cell_type": "code",
      "metadata": {
        "id": "L3_fa7Re0AKa",
        "colab_type": "code",
        "outputId": "fd44368d-2dbd-467b-c1ba-3dcddbe119c9",
        "colab": {
          "base_uri": "https://localhost:8080/",
          "height": 376
        }
      },
      "source": [
        "# aggregate all interactions into one 'interaction' with 부여한 가중치\n",
        "def smooth_user_preference(x):\n",
        "    return math.log(1+x, 2)\n",
        "    # math.log 함수는 (a, Base) =  log(a)/log(Base)\n",
        "    \n",
        "# https://www.geeksforgeeks.org/log-functions-python/ \n",
        "    \n",
        "interactions_full_df = interactions_from_selected_users_df \\\n",
        "                    .groupby(['personId', 'contentId'])['eventStrength'].sum() \\\n",
        "                    .apply(smooth_user_preference).reset_index()\n",
        "\n",
        "print('# of unique user/item interactions: %d' % len(interactions_full_df))\n",
        "interactions_full_df.head(10)"
      ],
      "execution_count": 0,
      "outputs": [
        {
          "output_type": "stream",
          "text": [
            "# of unique user/item interactions: 39106\n"
          ],
          "name": "stdout"
        },
        {
          "output_type": "execute_result",
          "data": {
            "text/html": [
              "<div>\n",
              "<style scoped>\n",
              "    .dataframe tbody tr th:only-of-type {\n",
              "        vertical-align: middle;\n",
              "    }\n",
              "\n",
              "    .dataframe tbody tr th {\n",
              "        vertical-align: top;\n",
              "    }\n",
              "\n",
              "    .dataframe thead th {\n",
              "        text-align: right;\n",
              "    }\n",
              "</style>\n",
              "<table border=\"1\" class=\"dataframe\">\n",
              "  <thead>\n",
              "    <tr style=\"text-align: right;\">\n",
              "      <th></th>\n",
              "      <th>personId</th>\n",
              "      <th>contentId</th>\n",
              "      <th>eventStrength</th>\n",
              "    </tr>\n",
              "  </thead>\n",
              "  <tbody>\n",
              "    <tr>\n",
              "      <th>0</th>\n",
              "      <td>-9223121837663643404</td>\n",
              "      <td>-8949113594875411859</td>\n",
              "      <td>1.000000</td>\n",
              "    </tr>\n",
              "    <tr>\n",
              "      <th>1</th>\n",
              "      <td>-9223121837663643404</td>\n",
              "      <td>-8377626164558006982</td>\n",
              "      <td>1.000000</td>\n",
              "    </tr>\n",
              "    <tr>\n",
              "      <th>2</th>\n",
              "      <td>-9223121837663643404</td>\n",
              "      <td>-8208801367848627943</td>\n",
              "      <td>1.000000</td>\n",
              "    </tr>\n",
              "    <tr>\n",
              "      <th>3</th>\n",
              "      <td>-9223121837663643404</td>\n",
              "      <td>-8187220755213888616</td>\n",
              "      <td>1.000000</td>\n",
              "    </tr>\n",
              "    <tr>\n",
              "      <th>4</th>\n",
              "      <td>-9223121837663643404</td>\n",
              "      <td>-7423191370472335463</td>\n",
              "      <td>3.169925</td>\n",
              "    </tr>\n",
              "    <tr>\n",
              "      <th>5</th>\n",
              "      <td>-9223121837663643404</td>\n",
              "      <td>-7331393944609614247</td>\n",
              "      <td>1.000000</td>\n",
              "    </tr>\n",
              "    <tr>\n",
              "      <th>6</th>\n",
              "      <td>-9223121837663643404</td>\n",
              "      <td>-6872546942144599345</td>\n",
              "      <td>1.000000</td>\n",
              "    </tr>\n",
              "    <tr>\n",
              "      <th>7</th>\n",
              "      <td>-9223121837663643404</td>\n",
              "      <td>-6728844082024523434</td>\n",
              "      <td>1.000000</td>\n",
              "    </tr>\n",
              "    <tr>\n",
              "      <th>8</th>\n",
              "      <td>-9223121837663643404</td>\n",
              "      <td>-6590819806697898649</td>\n",
              "      <td>1.000000</td>\n",
              "    </tr>\n",
              "    <tr>\n",
              "      <th>9</th>\n",
              "      <td>-9223121837663643404</td>\n",
              "      <td>-6558712014192834002</td>\n",
              "      <td>1.584963</td>\n",
              "    </tr>\n",
              "  </tbody>\n",
              "</table>\n",
              "</div>"
            ],
            "text/plain": [
              "              personId            contentId  eventStrength\n",
              "0 -9223121837663643404 -8949113594875411859       1.000000\n",
              "1 -9223121837663643404 -8377626164558006982       1.000000\n",
              "2 -9223121837663643404 -8208801367848627943       1.000000\n",
              "3 -9223121837663643404 -8187220755213888616       1.000000\n",
              "4 -9223121837663643404 -7423191370472335463       3.169925\n",
              "5 -9223121837663643404 -7331393944609614247       1.000000\n",
              "6 -9223121837663643404 -6872546942144599345       1.000000\n",
              "7 -9223121837663643404 -6728844082024523434       1.000000\n",
              "8 -9223121837663643404 -6590819806697898649       1.000000\n",
              "9 -9223121837663643404 -6558712014192834002       1.584963"
            ]
          },
          "metadata": {
            "tags": []
          },
          "execution_count": 21
        }
      ]
    },
    {
      "cell_type": "markdown",
      "metadata": {
        "id": "FbWjf7G50Tlu",
        "colab_type": "text"
      },
      "source": [
        "### Preparing Evaluation metrics"
      ]
    },
    {
      "cell_type": "code",
      "metadata": {
        "id": "Wzu1LJ8v118q",
        "colab_type": "code",
        "outputId": "6aab1723-800e-445a-e3fb-950f1400da62",
        "colab": {
          "base_uri": "https://localhost:8080/",
          "height": 51
        }
      },
      "source": [
        "interactions_train_df, interactions_test_df = train_test_split(interactions_full_df,\n",
        "                                   stratify=interactions_full_df['personId'], \n",
        "                                   test_size=0.20,\n",
        "                                   random_state=42)\n",
        "\n",
        "print('# interactions on Train set: %d' % len(interactions_train_df))\n",
        "print('# interactions on Test set: %d' % len(interactions_test_df))"
      ],
      "execution_count": 0,
      "outputs": [
        {
          "output_type": "stream",
          "text": [
            "# interactions on Train set: 31284\n",
            "# interactions on Test set: 7822\n"
          ],
          "name": "stdout"
        }
      ]
    },
    {
      "cell_type": "code",
      "metadata": {
        "id": "0ymggnUR12g4",
        "colab_type": "code",
        "colab": {}
      },
      "source": [
        "#Indexing by personId to speed up the searches during evaluation\n",
        "interactions_full_indexed_df = interactions_full_df.set_index('personId')\n",
        "interactions_train_indexed_df = interactions_train_df.set_index('personId')\n",
        "interactions_test_indexed_df = interactions_test_df.set_index('personId')"
      ],
      "execution_count": 0,
      "outputs": []
    },
    {
      "cell_type": "code",
      "metadata": {
        "id": "tBSg-9O22Mza",
        "colab_type": "code",
        "colab": {}
      },
      "source": [
        "def get_items_interacted(person_id, interactions_df):\n",
        "    # Get the user's data and merge in the movie information.\n",
        "    interacted_items = interactions_df.loc[person_id]['contentId']\n",
        "    return set(interacted_items if type(interacted_items) == pd.Series else [interacted_items])"
      ],
      "execution_count": 0,
      "outputs": []
    },
    {
      "cell_type": "markdown",
      "metadata": {
        "id": "N-hBlz3hNdxv",
        "colab_type": "text"
      },
      "source": [
        "> 향후 모델링 하게 된 것을 평가하는 evaluation metrics & printer class"
      ]
    },
    {
      "cell_type": "code",
      "metadata": {
        "id": "ouuv7XNX6297",
        "colab_type": "code",
        "colab": {}
      },
      "source": [
        "# Top-N accuracy metrics consts\n",
        "EVAL_RANDOM_SAMPLE_NON_INTERACTED_ITEMS = 100\n",
        "\n",
        "class ModelEvaluator:\n",
        "\n",
        "\n",
        "    def get_not_interacted_items_sample(self, person_id, sample_size, seed=42):\n",
        "        interacted_items = get_items_interacted(person_id, interactions_full_indexed_df)\n",
        "        all_items = set(articles_df['contentId'])\n",
        "        non_interacted_items = all_items - interacted_items\n",
        "\n",
        "        random.seed(seed)\n",
        "        non_interacted_items_sample = random.sample(non_interacted_items, sample_size)\n",
        "        return set(non_interacted_items_sample)\n",
        "\n",
        "    def _verify_hit_top_n(self, item_id, recommended_items, topn):        \n",
        "            try:\n",
        "                index = next(i for i, c in enumerate(recommended_items) if c == item_id)\n",
        "            except:\n",
        "                index = -1\n",
        "            hit = int(index in range(0, topn))\n",
        "            return hit, index\n",
        "\n",
        "    def evaluate_model_for_user(self, model, person_id):\n",
        "        #Getting the items in test set\n",
        "        interacted_values_testset = interactions_test_indexed_df.loc[person_id]\n",
        "        if type(interacted_values_testset['contentId']) == pd.Series:\n",
        "            person_interacted_items_testset = set(interacted_values_testset['contentId'])\n",
        "        else:\n",
        "            person_interacted_items_testset = set([int(interacted_values_testset['contentId'])])  \n",
        "        interacted_items_count_testset = len(person_interacted_items_testset) \n",
        "\n",
        "        #Getting a ranked recommendation list from a model for a given user\n",
        "        person_recs_df = model.recommend_items(person_id, \n",
        "                                               items_to_ignore=get_items_interacted(person_id, \n",
        "                                                                                    interactions_train_indexed_df), \n",
        "                                               topn=10000000000)\n",
        "\n",
        "        hits_at_5_count = 0\n",
        "        hits_at_10_count = 0\n",
        "        #For each item the user has interacted in test set\n",
        "        for item_id in person_interacted_items_testset:\n",
        "            #Getting a random sample (100) items the user has not interacted \n",
        "            #(to represent items that are assumed to be no relevant to the user)\n",
        "            non_interacted_items_sample = self.get_not_interacted_items_sample(person_id, \n",
        "                                                                          sample_size=EVAL_RANDOM_SAMPLE_NON_INTERACTED_ITEMS, \n",
        "                                                                          seed=item_id%(2**32))\n",
        "\n",
        "            #Combining the current interacted item with the 100 random items\n",
        "            items_to_filter_recs = non_interacted_items_sample.union(set([item_id]))\n",
        "\n",
        "            #Filtering only recommendations that are either the interacted item or from a random sample of 100 non-interacted items\n",
        "            valid_recs_df = person_recs_df[person_recs_df['contentId'].isin(items_to_filter_recs)]                    \n",
        "            valid_recs = valid_recs_df['contentId'].values\n",
        "            #Verifying if the current interacted item is among the Top-N recommended items\n",
        "            hit_at_5, index_at_5 = self._verify_hit_top_n(item_id, valid_recs, 5)\n",
        "            hits_at_5_count += hit_at_5\n",
        "            hit_at_10, index_at_10 = self._verify_hit_top_n(item_id, valid_recs, 10)\n",
        "            hits_at_10_count += hit_at_10\n",
        "\n",
        "        #Recall is the rate of the interacted items that are ranked among the Top-N recommended items, \n",
        "        #when mixed with a set of non-relevant items\n",
        "        recall_at_5 = hits_at_5_count / float(interacted_items_count_testset)\n",
        "        recall_at_10 = hits_at_10_count / float(interacted_items_count_testset)\n",
        "\n",
        "        person_metrics = {'hits@5_count':hits_at_5_count, \n",
        "                          'hits@10_count':hits_at_10_count, \n",
        "                          'interacted_count': interacted_items_count_testset,\n",
        "                          'recall@5': recall_at_5,\n",
        "                          'recall@10': recall_at_10}\n",
        "        return person_metrics\n",
        "\n",
        "    def evaluate_model(self, model):\n",
        "        #print('Running evaluation for users')\n",
        "        people_metrics = []\n",
        "        for idx, person_id in enumerate(list(interactions_test_indexed_df.index.unique().values)):\n",
        "            #if idx % 100 == 0 and idx > 0:\n",
        "            #    print('%d users processed' % idx)\n",
        "            person_metrics = self.evaluate_model_for_user(model, person_id)  \n",
        "            person_metrics['_person_id'] = person_id\n",
        "            people_metrics.append(person_metrics)\n",
        "        print('%d users processed' % idx)\n",
        "\n",
        "        detailed_results_df = pd.DataFrame(people_metrics) \\\n",
        "                            .sort_values('interacted_count', ascending=False)\n",
        "        \n",
        "        global_recall_at_5 = detailed_results_df['hits@5_count'].sum() / float(detailed_results_df['interacted_count'].sum())\n",
        "        global_recall_at_10 = detailed_results_df['hits@10_count'].sum() / float(detailed_results_df['interacted_count'].sum())\n",
        "        \n",
        "        global_metrics = {'modelName': model.get_model_name(),\n",
        "                          'recall@5': global_recall_at_5,\n",
        "                          'recall@10': global_recall_at_10}    \n",
        "        return global_metrics, detailed_results_df\n",
        "    \n",
        "model_evaluator = ModelEvaluator()    "
      ],
      "execution_count": 0,
      "outputs": []
    },
    {
      "cell_type": "markdown",
      "metadata": {
        "id": "CvoCvaGy4-0V",
        "colab_type": "text"
      },
      "source": [
        "### Naive Recommender Modeling"
      ]
    },
    {
      "cell_type": "code",
      "metadata": {
        "id": "43Iqm4ef4Gf3",
        "colab_type": "code",
        "colab": {}
      },
      "source": [
        "# Popularity Model\n",
        "# Common 하고, 그냥 단순히 이전에 유저가 consume 하지 않은 items을 추천해줌\n",
        "# baseline 으로 사용\n",
        "# To leverage long-tail items to the users with very specific interests \n",
        "# 다른 모델을 활용해야 함."
      ],
      "execution_count": 0,
      "outputs": []
    },
    {
      "cell_type": "code",
      "metadata": {
        "id": "oanScjL05r8x",
        "colab_type": "code",
        "outputId": "3f7ae47f-40fc-4922-8f83-8d9d3d3a70a1",
        "colab": {
          "base_uri": "https://localhost:8080/",
          "height": 359
        }
      },
      "source": [
        "# event strength의 합계가 높을수록 popularity 가 높다\n",
        "item_popularity_df = interactions_full_df.groupby('contentId')['eventStrength'].sum().sort_values(ascending=False).reset_index()\n",
        "item_popularity_df.head(10)"
      ],
      "execution_count": 0,
      "outputs": [
        {
          "output_type": "execute_result",
          "data": {
            "text/html": [
              "<div>\n",
              "<style scoped>\n",
              "    .dataframe tbody tr th:only-of-type {\n",
              "        vertical-align: middle;\n",
              "    }\n",
              "\n",
              "    .dataframe tbody tr th {\n",
              "        vertical-align: top;\n",
              "    }\n",
              "\n",
              "    .dataframe thead th {\n",
              "        text-align: right;\n",
              "    }\n",
              "</style>\n",
              "<table border=\"1\" class=\"dataframe\">\n",
              "  <thead>\n",
              "    <tr style=\"text-align: right;\">\n",
              "      <th></th>\n",
              "      <th>contentId</th>\n",
              "      <th>eventStrength</th>\n",
              "    </tr>\n",
              "  </thead>\n",
              "  <tbody>\n",
              "    <tr>\n",
              "      <th>0</th>\n",
              "      <td>-4029704725707465084</td>\n",
              "      <td>307.733799</td>\n",
              "    </tr>\n",
              "    <tr>\n",
              "      <th>1</th>\n",
              "      <td>-6783772548752091658</td>\n",
              "      <td>233.762157</td>\n",
              "    </tr>\n",
              "    <tr>\n",
              "      <th>2</th>\n",
              "      <td>-133139342397538859</td>\n",
              "      <td>228.024567</td>\n",
              "    </tr>\n",
              "    <tr>\n",
              "      <th>3</th>\n",
              "      <td>-8208801367848627943</td>\n",
              "      <td>197.107608</td>\n",
              "    </tr>\n",
              "    <tr>\n",
              "      <th>4</th>\n",
              "      <td>-6843047699859121724</td>\n",
              "      <td>193.825208</td>\n",
              "    </tr>\n",
              "    <tr>\n",
              "      <th>5</th>\n",
              "      <td>8224860111193157980</td>\n",
              "      <td>189.044680</td>\n",
              "    </tr>\n",
              "    <tr>\n",
              "      <th>6</th>\n",
              "      <td>-2358756719610361882</td>\n",
              "      <td>183.110951</td>\n",
              "    </tr>\n",
              "    <tr>\n",
              "      <th>7</th>\n",
              "      <td>2581138407738454418</td>\n",
              "      <td>180.282876</td>\n",
              "    </tr>\n",
              "    <tr>\n",
              "      <th>8</th>\n",
              "      <td>7507067965574797372</td>\n",
              "      <td>179.094002</td>\n",
              "    </tr>\n",
              "    <tr>\n",
              "      <th>9</th>\n",
              "      <td>1469580151036142903</td>\n",
              "      <td>170.548969</td>\n",
              "    </tr>\n",
              "  </tbody>\n",
              "</table>\n",
              "</div>"
            ],
            "text/plain": [
              "             contentId  eventStrength\n",
              "0 -4029704725707465084     307.733799\n",
              "1 -6783772548752091658     233.762157\n",
              "2  -133139342397538859     228.024567\n",
              "3 -8208801367848627943     197.107608\n",
              "4 -6843047699859121724     193.825208\n",
              "5  8224860111193157980     189.044680\n",
              "6 -2358756719610361882     183.110951\n",
              "7  2581138407738454418     180.282876\n",
              "8  7507067965574797372     179.094002\n",
              "9  1469580151036142903     170.548969"
            ]
          },
          "metadata": {
            "tags": []
          },
          "execution_count": 29
        }
      ]
    },
    {
      "cell_type": "code",
      "metadata": {
        "id": "REFd8QC46Gmn",
        "colab_type": "code",
        "colab": {}
      },
      "source": [
        "class PopularityRecommender:\n",
        "    \n",
        "    MODEL_NAME = 'Popularity'\n",
        "    \n",
        "    def __init__(self, popularity_df, items_df=None):\n",
        "        self.popularity_df = popularity_df\n",
        "        self.items_df = items_df\n",
        "        \n",
        "    def get_model_name(self):\n",
        "        return self.MODEL_NAME\n",
        "        \n",
        "    def recommend_items(self, user_id, items_to_ignore=[], topn=10, verbose=False):\n",
        "        # Recommend the more popular items that the user hasn't seen yet.\n",
        "        recommendations_df = self.popularity_df[~self.popularity_df['contentId'].isin(items_to_ignore)] \\\n",
        "                               .sort_values('eventStrength', ascending = False) \\\n",
        "                               .head(topn)\n",
        "\n",
        "        if verbose:\n",
        "            if self.items_df is None:\n",
        "                raise Exception('\"items_df\" is required in verbose mode')\n",
        "            recommendations_df = recommendations_df.merge(self.items_df, how = 'left', \n",
        "                                                          left_on = 'contentId', \n",
        "                                                          right_on = 'contentId')[['eventStrength', 'contentId', 'title', 'url', 'lang']]\n",
        "        return recommendations_df\n",
        "    "
      ],
      "execution_count": 0,
      "outputs": []
    },
    {
      "cell_type": "code",
      "metadata": {
        "id": "E6ZlR1aY6SpF",
        "colab_type": "code",
        "colab": {}
      },
      "source": [
        "popularity_model = PopularityRecommender(item_popularity_df, articles_df)"
      ],
      "execution_count": 0,
      "outputs": []
    },
    {
      "cell_type": "code",
      "metadata": {
        "id": "-2p3n6Gv6mSU",
        "colab_type": "code",
        "outputId": "df6fda46-2890-4c79-d7b5-7e92dc968ff6",
        "colab": {
          "base_uri": "https://localhost:8080/",
          "height": 343
        }
      },
      "source": [
        "model_evaluator.evaluate_model(popularity_model)"
      ],
      "execution_count": 0,
      "outputs": [
        {
          "output_type": "stream",
          "text": [
            "1139 users processed\n"
          ],
          "name": "stdout"
        },
        {
          "output_type": "execute_result",
          "data": {
            "text/plain": [
              "({'modelName': 'Popularity',\n",
              "  'recall@10': 0.37292252620813093,\n",
              "  'recall@5': 0.2417540271030427},\n",
              "       hits@5_count  hits@10_count  ...  recall@10           _person_id\n",
              " 76              28             50  ...   0.260417  3609194402293569455\n",
              " 17              12             25  ...   0.186567 -2626634673110551643\n",
              " 16              13             23  ...   0.176923 -1032019229384696495\n",
              " 10               5              9  ...   0.076923 -1443636648652872475\n",
              " 82              25             40  ...   0.454545 -2979881261169775358\n",
              " ...            ...            ...  ...        ...                  ...\n",
              " 872              0              0  ...   0.000000 -3946214281191348339\n",
              " 869              0              0  ...   0.000000  9165571805999894845\n",
              " 867              0              0  ...   0.000000  5287342266016283959\n",
              " 865              0              0  ...   0.000000 -2762344524254945371\n",
              " 1139             0              0  ...   0.000000  1306495113310433590\n",
              " \n",
              " [1140 rows x 6 columns])"
            ]
          },
          "metadata": {
            "tags": []
          },
          "execution_count": 41
        }
      ]
    },
    {
      "cell_type": "code",
      "metadata": {
        "id": "G9yCPDav7CnG",
        "colab_type": "code",
        "outputId": "8fe44a6b-9d46-4d81-9e05-3152cd6122e5",
        "colab": {
          "base_uri": "https://localhost:8080/",
          "height": 464
        }
      },
      "source": [
        "print('Evaluating Popularity recommendation model...')\n",
        "pop_global_metrics, pop_detailed_results_df = model_evaluator.evaluate_model(popularity_model)\n",
        "print('\\nGlobal metrics:\\n%s' % pop_global_metrics)\n",
        "pop_detailed_results_df.head(10)"
      ],
      "execution_count": 0,
      "outputs": [
        {
          "output_type": "stream",
          "text": [
            "Evaluating Popularity recommendation model...\n",
            "1139 users processed\n",
            "\n",
            "Global metrics:\n",
            "{'modelName': 'Popularity', 'recall@5': 0.2417540271030427, 'recall@10': 0.37292252620813093}\n"
          ],
          "name": "stdout"
        },
        {
          "output_type": "execute_result",
          "data": {
            "text/html": [
              "<div>\n",
              "<style scoped>\n",
              "    .dataframe tbody tr th:only-of-type {\n",
              "        vertical-align: middle;\n",
              "    }\n",
              "\n",
              "    .dataframe tbody tr th {\n",
              "        vertical-align: top;\n",
              "    }\n",
              "\n",
              "    .dataframe thead th {\n",
              "        text-align: right;\n",
              "    }\n",
              "</style>\n",
              "<table border=\"1\" class=\"dataframe\">\n",
              "  <thead>\n",
              "    <tr style=\"text-align: right;\">\n",
              "      <th></th>\n",
              "      <th>hits@5_count</th>\n",
              "      <th>hits@10_count</th>\n",
              "      <th>interacted_count</th>\n",
              "      <th>recall@5</th>\n",
              "      <th>recall@10</th>\n",
              "      <th>_person_id</th>\n",
              "    </tr>\n",
              "  </thead>\n",
              "  <tbody>\n",
              "    <tr>\n",
              "      <th>76</th>\n",
              "      <td>28</td>\n",
              "      <td>50</td>\n",
              "      <td>192</td>\n",
              "      <td>0.145833</td>\n",
              "      <td>0.260417</td>\n",
              "      <td>3609194402293569455</td>\n",
              "    </tr>\n",
              "    <tr>\n",
              "      <th>17</th>\n",
              "      <td>12</td>\n",
              "      <td>25</td>\n",
              "      <td>134</td>\n",
              "      <td>0.089552</td>\n",
              "      <td>0.186567</td>\n",
              "      <td>-2626634673110551643</td>\n",
              "    </tr>\n",
              "    <tr>\n",
              "      <th>16</th>\n",
              "      <td>13</td>\n",
              "      <td>23</td>\n",
              "      <td>130</td>\n",
              "      <td>0.100000</td>\n",
              "      <td>0.176923</td>\n",
              "      <td>-1032019229384696495</td>\n",
              "    </tr>\n",
              "    <tr>\n",
              "      <th>10</th>\n",
              "      <td>5</td>\n",
              "      <td>9</td>\n",
              "      <td>117</td>\n",
              "      <td>0.042735</td>\n",
              "      <td>0.076923</td>\n",
              "      <td>-1443636648652872475</td>\n",
              "    </tr>\n",
              "    <tr>\n",
              "      <th>82</th>\n",
              "      <td>25</td>\n",
              "      <td>40</td>\n",
              "      <td>88</td>\n",
              "      <td>0.284091</td>\n",
              "      <td>0.454545</td>\n",
              "      <td>-2979881261169775358</td>\n",
              "    </tr>\n",
              "    <tr>\n",
              "      <th>161</th>\n",
              "      <td>12</td>\n",
              "      <td>18</td>\n",
              "      <td>80</td>\n",
              "      <td>0.150000</td>\n",
              "      <td>0.225000</td>\n",
              "      <td>-3596626804281480007</td>\n",
              "    </tr>\n",
              "    <tr>\n",
              "      <th>65</th>\n",
              "      <td>20</td>\n",
              "      <td>33</td>\n",
              "      <td>73</td>\n",
              "      <td>0.273973</td>\n",
              "      <td>0.452055</td>\n",
              "      <td>1116121227607581999</td>\n",
              "    </tr>\n",
              "    <tr>\n",
              "      <th>81</th>\n",
              "      <td>17</td>\n",
              "      <td>23</td>\n",
              "      <td>69</td>\n",
              "      <td>0.246377</td>\n",
              "      <td>0.333333</td>\n",
              "      <td>692689608292948411</td>\n",
              "    </tr>\n",
              "    <tr>\n",
              "      <th>106</th>\n",
              "      <td>14</td>\n",
              "      <td>18</td>\n",
              "      <td>69</td>\n",
              "      <td>0.202899</td>\n",
              "      <td>0.260870</td>\n",
              "      <td>-9016528795238256703</td>\n",
              "    </tr>\n",
              "    <tr>\n",
              "      <th>52</th>\n",
              "      <td>21</td>\n",
              "      <td>28</td>\n",
              "      <td>68</td>\n",
              "      <td>0.308824</td>\n",
              "      <td>0.411765</td>\n",
              "      <td>3636910968448833585</td>\n",
              "    </tr>\n",
              "  </tbody>\n",
              "</table>\n",
              "</div>"
            ],
            "text/plain": [
              "     hits@5_count  hits@10_count  ...  recall@10           _person_id\n",
              "76             28             50  ...   0.260417  3609194402293569455\n",
              "17             12             25  ...   0.186567 -2626634673110551643\n",
              "16             13             23  ...   0.176923 -1032019229384696495\n",
              "10              5              9  ...   0.076923 -1443636648652872475\n",
              "82             25             40  ...   0.454545 -2979881261169775358\n",
              "161            12             18  ...   0.225000 -3596626804281480007\n",
              "65             20             33  ...   0.452055  1116121227607581999\n",
              "81             17             23  ...   0.333333   692689608292948411\n",
              "106            14             18  ...   0.260870 -9016528795238256703\n",
              "52             21             28  ...   0.411765  3636910968448833585\n",
              "\n",
              "[10 rows x 6 columns]"
            ]
          },
          "metadata": {
            "tags": []
          },
          "execution_count": 42
        }
      ]
    },
    {
      "cell_type": "markdown",
      "metadata": {
        "id": "T1HvdaenNvkr",
        "colab_type": "text"
      },
      "source": [
        "### Content based filtering modeling"
      ]
    },
    {
      "cell_type": "code",
      "metadata": {
        "id": "GXQN3H9g7Ajq",
        "colab_type": "code",
        "outputId": "53ea7c71-0db4-4251-de47-b5d3afba138c",
        "colab": {
          "base_uri": "https://localhost:8080/",
          "height": 68
        }
      },
      "source": [
        "# Content-based filtering model\n",
        "# TF-IDF 라는 테크닉을 사용하는데, 비정제된 텍스트를 벡터로 정형화해주는 기술\n",
        "# TF, IDF 란? 단어 빈도 - 역 문서 빈도\n",
        "# 주로 문서의 유사도, 검색 결과의 중요도, 단어들의 중요도 작업에 사용\n",
        "# 그래서 지금 정형화되지 않은 영어 주소들을 stopwords 이용해 정제\n",
        "import nltk\n",
        "nltk.download('stopwords')"
      ],
      "execution_count": 0,
      "outputs": [
        {
          "output_type": "stream",
          "text": [
            "[nltk_data] Downloading package stopwords to /root/nltk_data...\n",
            "[nltk_data]   Unzipping corpora/stopwords.zip.\n"
          ],
          "name": "stdout"
        },
        {
          "output_type": "execute_result",
          "data": {
            "text/plain": [
              "True"
            ]
          },
          "metadata": {
            "tags": []
          },
          "execution_count": 47
        }
      ]
    },
    {
      "cell_type": "markdown",
      "metadata": {
        "id": "ppa6k1mjN8J4",
        "colab_type": "text"
      },
      "source": [
        "> 전처리, 자연어 처리 "
      ]
    },
    {
      "cell_type": "code",
      "metadata": {
        "id": "rO28nJLw6_PP",
        "colab_type": "code",
        "colab": {}
      },
      "source": [
        "#Ignoring stopwords (words with no semantics) from English and Portuguese (as we have a corpus with mixed languages)\n",
        "stopwords_list = stopwords.words('english') + stopwords.words('portuguese')\n",
        "\n",
        "#Trains a model whose vectors size is 5000, composed by the main unigrams and bigrams found in the corpus, ignoring stopwords\n",
        "vectorizer = TfidfVectorizer(analyzer='word',\n",
        "                     ngram_range=(1, 2),\n",
        "                     min_df=0.003,\n",
        "                     max_df=0.5,\n",
        "                     max_features=5000,\n",
        "                     stop_words=stopwords_list)\n",
        "# https://kavita-ganesan.com/tfidftransformer-tfidfvectorizer-usage-differences/#.Xb0syuczbOQ\n"
      ],
      "execution_count": 0,
      "outputs": []
    },
    {
      "cell_type": "code",
      "metadata": {
        "id": "QyMq3PRM6p-3",
        "colab_type": "code",
        "outputId": "7afc01f1-3156-4414-99a0-2039bc83889e",
        "colab": {
          "base_uri": "https://localhost:8080/",
          "height": 51
        }
      },
      "source": [
        "#Trains a model whose vectors size is 5000, composed by the main unigrams and bigrams found in the corpus, ignoring stopwords\n",
        "vectorizer = TfidfVectorizer(analyzer='word',\n",
        "                     ngram_range=(1, 2),\n",
        "                     min_df=0.003,\n",
        "                     max_df=0.5,\n",
        "                     max_features=5000,\n",
        "                     stop_words=stopwords_list)\n",
        "\n",
        "item_ids = articles_df['contentId'].tolist()\n",
        "tfidf_matrix = vectorizer.fit_transform(articles_df['title'] + \"\" + articles_df['text'])\n",
        "tfidf_feature_names = vectorizer.get_feature_names()\n",
        "tfidf_matrix"
      ],
      "execution_count": 0,
      "outputs": [
        {
          "output_type": "execute_result",
          "data": {
            "text/plain": [
              "<3047x5000 sparse matrix of type '<class 'numpy.float64'>'\n",
              "\twith 638928 stored elements in Compressed Sparse Row format>"
            ]
          },
          "metadata": {
            "tags": []
          },
          "execution_count": 49
        }
      ]
    },
    {
      "cell_type": "code",
      "metadata": {
        "id": "l2yUXAzQ8aPP",
        "colab_type": "code",
        "outputId": "83705ca9-a02f-4505-9baa-36cfbbc12e59",
        "colab": {
          "base_uri": "https://localhost:8080/",
          "height": 221
        }
      },
      "source": [
        "articles_df['title']\n",
        "articles_df['text']"
      ],
      "execution_count": 0,
      "outputs": [
        {
          "output_type": "execute_result",
          "data": {
            "text/plain": [
              "1       All of this work is still very early. The firs...\n",
              "2       The alarm clock wakes me at 8:00 with stream o...\n",
              "3       We're excited to share the Google Data Center ...\n",
              "4       The Aite Group projects the blockchain market ...\n",
              "5       One of the largest and oldest organizations fo...\n",
              "                              ...                        \n",
              "3117    A Liga Ventures, aceleradora de startups espec...\n",
              "3118    Amazon has launched Chime, a video conferencin...\n",
              "3119    February 9, 2017 - We begin each year with a l...\n",
              "3120    At JPMorgan Chase & Co., a learning machine is...\n",
              "3121    The Acquia Partner Awards Program is comprised...\n",
              "Name: text, Length: 3047, dtype: object"
            ]
          },
          "metadata": {
            "tags": []
          },
          "execution_count": 53
        }
      ]
    },
    {
      "cell_type": "markdown",
      "metadata": {
        "id": "Jyuqr7mdN_l0",
        "colab_type": "text"
      },
      "source": [
        "> 모델링"
      ]
    },
    {
      "cell_type": "code",
      "metadata": {
        "id": "QlwsngbH9yz3",
        "colab_type": "code",
        "colab": {}
      },
      "source": [
        "# 유저 프로파일 모델링\n",
        "# 아이템 프로파일부터 생성\n",
        "def get_item_profile(item_id):\n",
        "    idx = item_ids.index(item_id)\n",
        "    item_profile = tfidf_matrix[idx:idx+1]\n",
        "    return item_profile\n",
        "\n",
        "def get_item_profiles(ids):\n",
        "    item_profiles_list = [get_item_profile(x) for x in ids]\n",
        "    item_profiles = scipy.sparse.vstack(item_profiles_list)\n",
        "    return item_profiles\n",
        "\n",
        "# 유저 프로파일 생성\n",
        "# 이 부분이 핵심함수, 단일 프로파일 생성\n",
        "def build_users_profile(person_id, interactions_indexed_df):\n",
        "    # person_id 로 자른다\n",
        "    interactions_person_df = interactions_indexed_df.loc[person_id]\n",
        "    # 그 유저가 사용한 아이템의 프로파일을 불러온다 \n",
        "    user_item_profiles = get_item_profiles(interactions_person_df['contentId'])\n",
        "    # eventstrength 가져와서 reshaping\n",
        "    user_item_strengths = np.array(interactions_person_df['eventStrength']).reshape(-1,1)\n",
        "    # Weighted average of item profiles by the interactions strength\n",
        "    user_item_strengths_weighted_avg = np.sum(\n",
        "        user_item_profiles.multiply(user_item_strengths), axis=0) / np.sum(user_item_strengths)\n",
        "    # normalizing 해서 마무리\n",
        "    user_profile_norm = sklearn.preprocessing.normalize(user_item_strengths_weighted_avg)\n",
        "    return user_profile_norm\n",
        "\n",
        "# 복수 프로파일 생성, 위 함수 당겨다 씀\n",
        "def build_users_profiles(): \n",
        "    interactions_indexed_df = interactions_full_df[interactions_full_df['contentId'] \\\n",
        "                                                   .isin(articles_df['contentId'])].set_index('personId')\n",
        "    user_profiles = {}\n",
        "    for person_id in interactions_indexed_df.index.unique():\n",
        "        user_profiles[person_id] = build_users_profile(person_id, interactions_indexed_df)\n",
        "    return user_profiles"
      ],
      "execution_count": 0,
      "outputs": []
    },
    {
      "cell_type": "code",
      "metadata": {
        "id": "jYO6tx0i9xmV",
        "colab_type": "code",
        "outputId": "408d8a76-991b-41ef-946c-87ad3957897b",
        "colab": {
          "base_uri": "https://localhost:8080/",
          "height": 54
        }
      },
      "source": [
        "user_profiles = build_users_profiles()\n",
        "# user_profiles 는 딕셔너리 형태로, 그럼 어떤 키와 밸유를 가진지 보자\n",
        "print(user_profiles.keys())"
      ],
      "execution_count": 0,
      "outputs": [
        {
          "output_type": "stream",
          "text": [
            "dict_keys([-9223121837663643404, -9212075797126931087, -9207251133131336884, -9199575329909162940, -9196668942822132778, -9188188261933657343, -9172914609055320039, -9156344805277471150, -9120685872592674274, -9109785559521267180, -9063420486253202900, -9060214117327732109, -9047547311469006438, -9016528795238256703, -9009798162809551896, -9001583565812478106, -8994220765455693336, -8909668725653743114, -8891033171626175843, -8860671864164757449, -8854674432071487111, -8853658195208337106, -8845298781299428018, -8830250090736356260, -8823950498314351783, -8802075878443651241, -8784674845716296727, -8781635134606732409, -8781306637602263252, -8763398617720485024, -8738496712327699923, -8719462623048086192, -8704807962619440953, -8699750646678621887, -8694104221113176052, -8686631410634491662, -8674958742744576254, -8672331451814079632, -8670749047273764903, -8652741825481604192, -8625026691457884033, -8620763856232712186, -8607239111818252463, -8606737560479590536, -8606085472606356565, -8594002152006287708, -8560472911230584244, -8550167523008133722, -8532959362941292070, -8446652614764495168, -8446209748110806120, -8436122021634018264, -8430239657678001264, -8424644554119645763, -8420584158427265596, -8417075466521236595, -8411878656309735649, -8402550747787819270, -8399605302938582500, -8388706028506253757, -8384598282283588647, -8336698712796133957, -8306418824693202277, -8295797114403986789, -8292030653061689145, -8251340065348651782, -8246472165248286476, -8243020848740766897, -8241940599580729220, -8223836278784533306, -8207027873334509187, -8205402408645015051, -8132559109129514792, -8099670049200803627, -8093344434152153830, -8093201745874454494, -8058416136173881530, -8051903121006324833, -8036997159314605196, -8020832670974472349, -8004014040019183404, -8002698029075478835, -7990997793599977496, -7980653669913930599, -7963931769298005669, -7957197279845818597, -7946448731524943718, -7920036110689552764, -7919979140583047064, -7910759941896704223, -7909814890969546668, -7898880382889684604, -7847088265446527581, -7755848049308089190, -7753289154322622303, -7711052404720939396, -7710611945490357590, -7658896905823060250, -7656701953949775820, -7651694769928092043, -7619256453002568786, -7611460419696903236, -7606731662737258050, -7599689935091013293, -7574071014482881124, -7566898119905906259, -7542032833609444223, -7540738139248278851, -7531858294361854119, -7520836932719953265, -7496361692498935601, -7487897518634781969, -7482701687530266291, -7478458454083355457, -7472538368234044044, -7457924553609117653, -7456488753754080246, -7421703586506797266, -7410485589492665094, -7393811715153527033, -7381477755938439823, -7377845572432324217, -7371331529308244882, -7365517474830766511, -7329305023392956798, -7273988155925360003, -7269286898191176947, -7267769888748948232, -7253045327330314894, -7240735065448254654, -7210005267264599337, -7180761520671049625, -7136511247670430002, -7118575739764684077, -7103674836099895927, -7087518691724367681, -7070657276224532716, -7065799990117843402, -7064549223277762524, -7044141443788188862, -7041401352840181657, -7035562184657775493, -6998647087289883231, -6947734781716817823, -6946355789336786528, -6944500707172804068, -6939883833521991898, -6933516293840979472, -6895155480127642372, -6878112296616605612, -6874849957985527250, -6874532444478397764, -6850499260033618177, -6834891987379050070, -6820774667818944570, -6810967503878969134, -6805567438224540711, -6786856227257648356, -6734098108417569342, -6730258785244938562, -6674945460600816442, -6668715715951053690, -6650942110522720391, -6631461711538275356, -6627505417926774253, -6611967527589759673, -6606373800483513352, -6593243739839278571, -6551899843081273989, -6533304626998890151, -6532175987346600523, -6527231059484292598, -6502100706127527925, -6493929577026741456, -6411371239765052331, -6395289021795478412, -6364723726238328437, -6361883726252419530, -6347007137547090068, -6316613156648676087, -6284920522659750073, -6276733705223916438, -6273276101162180437, -6246099423021213661, -6234126753805415756, -6226728612139235550, -6201845445987166377, -6196110550195246902, -6195985550971229641, -6188912942004687815, -6174073684310263806, -6153009241569363021, -6149164633108566454, -6120788038252469111, -6105296070998675410, -6085280990332832124, -6067316262393890508, -6067117771623247046, -6037268165948401442, -6030696784871381528, -6023498443312206944, -6014236343041475884, -6003416708481128042, -5969793184455185931, -5927761996778212028, -5918600103053825191, -5873562008332486480, -5868110530814399805, -5867382161915898777, -5847938315205392554, -5833749125541124532, -5823562314929634489, -5812738875803363289, -5795907895499274955, -5761633761733198864, -5732707497022383920, -5713424050095083786, -5708042355439521851, -5706287032724665714, -5676352709327073303, -5661737290289697460, -5648501732106474447, -5645906903825510952, -5639303336519418445, -5636811822913690686, -5611964175902830423, -5590226906710148930, -5579363687688515285, -5564980755503989625, -5548445604678482863, -5527145562136413747, -5475982967047071860, -5474198417649529244, -5444946123447491034, -5442497765070894440, -5409830449698398534, -5404285628365611524, -5394062070584740055, -5388083602161519863, -5380862725077089346, -5375964707198876331, -5374802517306837266, -5369165863004219744, -5355462854406417157, -5350075904398342955, -5349775063975483956, -5299969637554720500, -5292464982436362617, -5281916878353077993, -5267933492417667631, -5264754785175108362, -5230721907253934520, -5201927981686846343, -5189509074197685318, -5187161118553677346, -5179891559567091709, -5157376071499052964, -5150600065224095351, -5145337910218163424, -5140211912313628591, -5131518539710081313, -5118506922564478779, -5094446514734487376, -5091443926295682841, -5090528934888924741, -5088875531913232577, -5087878572343192653, -5070718731712624222, -5052218473217969334, -5046509793031129706, -4998109382710136565, -4996398807012464468, -4952379459094765124, -4951114616026800382, -4885223078646518099, -4830018755429682246, -4827592624810944078, -4820143702236579967, -4810326597879746920, -4807214756718635462, -4805195090397567709, -4767444107153363126, -4756235019094063793, -4755053149333666310, -4752363236131440693, -4751604321660934118, -4746388521877686441, -4744441833918341987, -4733247784100640601, -4716637009380371036, -4712939006281398894, -4659085198634436081, -4654550534260740358, -4654217101618903973, -4627026983118548639, -4618303625354887816, -4611709672528454566, -4596110728469327807, -4585796377251906117, -4529000568350205155, -4491909192209964776, -4474315553653067079, -4467650312287951120, -4465926797008424436, -4459091019090447019, -4448388750105189364, -4447090897576014728, -4423008059717567142, -4392503848617046749, -4384580909851654688, -4378027254566262232, -4367677270653877094, -4359668517495657229, -4355190001103094206, -4319627801793650960, -4312494396888667550, -4309872815953358011, -4298177694576275482, -4293690759387208926, -4246695160507476121, -4246040813531967142, -4243635261966794110, -4207804517986673674, -4207306127013767407, -4167415844282118439, -4165818767652094649, -4160173091318455989, -4154712816784766009, -4125205337625989832, -4116514811367777845, -4111723879505360159, -4097432147189001825, -4095153241356673613, -4092545774372727680, -4082616567756603262, -4070244201184983176, -4069033192522234994, -4051949751637798126, -4045556372014952225, -4028919343899978105, -3999591444223936177, -3992639648918314515, -3989802106718825881, -3978390417378743562, -3972388990373881334, -3954277405987282296, -3946214281191348339, -3933783680725097100, -3922165526049430121, -3896187702811204367, -3834559600071441352, -3815514359891076081, -3808141682397656195, -3806521031040937656, -3707046244070418512, -3696538850054062306, -3683161502313045202, -3643155458357242906, -3626028832820976226, -3624328811734325188, -3620817660824718175, -3598766333334489248, -3596626804281480007, -3595444231792050977, -3535274684588209118, -3520426145036898999, -3508202263850468997, -3500661007957156229, -3474152259371895547, -3466571388255450931, -3466039595643284366, -3458422503840091409, -3452896239697713851, -3424085881110247816, -3416264867487266035, -3404190841749582304, -3390049372067052505, -3381527457560577265, -3374649409463162440, -3362047598052899495, -3359156065199608672, -3352759316178227738, -3333861147700991931, -3325685634318512394, -3325508780389598615, -3295609019604191449, -3275942195366018617, -3243733722016468044, -3230911339419872436, -3216836291203563246, -3203894957285229214, -3196433790714486571, -3160777155871929764, -3107690258526146180, -3097435095152083451, -3057753924708856977, -3055952319719418325, -3011221777935346594, -2987910693129502800, -2979881261169775358, -2979537012405607453, -2936612463070256553, -2922237472410262877, -2902404120792546116, -2901997243166418276, -2826197582088460753, -2820994773540913369, -2785363955043455312, -2772844562500836582, -2763124458232441793, -2762344524254945371, -2726721797588771398, -2720944634081565632, -2690891220216547125, -2674237157038464789, -2644571257397324782, -2626634673110551643, -2623844842607044962, -2615487427211911927, -2545236939408275407, -2525380383541287600, -2517489119487350618, -2511855597392146401, -2484779020675533629, -2472976734554639184, -2465847828331443343, -2457136404620190048, -2455286848766388141, -2448844607876098932, -2411675934925653835, -2406209330529428019, -2399792467181202454, -2385757031765501802, -2376088187709738156, -2373656804845892625, -2368904890804470706, -2353507205274319323, -2350646782030041037, -2341407360157577080, -2337468721613240548, -2233054196721773008, -2206389024273286643, -2186033964866370752, -2184225127953983407, -2165869757092084791, -2124216952049350222, -2116515004529086881, -2108111265827636778, -2065443854703875357, -2050699458865052139, -2012808108604118403, -1994081661238157543, -1951226479575477884, -1949305601666774230, -1930650513477268660, -1915495401947962903, -1889513471801335580, -1863544689523892600, -1848938642635494958, -1836083230511905974, -1799631734242668035, -1795678272668135222, -1724358244764242875, -1694477146133918626, -1684566741313744330, -1678759546322702318, -1643309141343055997, -1616903969205976623, -1602833675167376798, -1578287561410088674, -1561982036714087726, -1547632488317277075, -1496589699638750920, -1489196353998999052, -1479311724257856983, -1454518985966405190, -1443636648652872475, -1410112619805614798, -1402490765047599382, -1393866732742189886, -1387464358334758758, -1380636509010496168, -1372859690779491423, -1367575386492755119, -1367069781843778997, -1352542225971050638, -1352064057049251194, -1339908024252273488, -1292787032977259947, -1272364595235252747, -1257176162426022931, -1251984896177895077, -1160159014793528221, -1157793243708252831, -1130272294246983140, -1119397949556155765, -1032019229384696495, -1007001694607905623, -968371571321396196, -962915895568757637, -960951213834982069, -900146660487611772, -897315218084387621, -887301601153643466, -867171338823652769, -830175562779396891, -737564610065686480, -714914145425798678, -712118237016184478, -710135072571868067, -709489070586681689, -709287718034731589, -698695976631873505, -663224541983667655, -634318177541615985, -604923632438177509, -588447608033313001, -560055148675865863, -558674720007730591, -534549863526737439, -510621402112686165, -502319718136389439, -492179582639058400, -485491685721852725, -483468163475294331, -468976912875459588, -468849228680532284, -453678802103139441, -446108537367277392, -445337111692715325, -444330148331768170, -387586131996064525, -376778416081419926, -375620451534537810, -331066625167168067, -315113304665694510, -300596929621183623, -299809122140089170, -292717837486008213, -290301761563498796, -259426774323606118, -247684700657514424, -243996608453935772, -240056303677024244, -229539536136014922, -174458633445209100, -123314413156450014, -108842214936804958, -89388927330481219, -74507320040642686, -57558373945119606, -48161796606086482, -41506117647079716, -35428957105270993, 22763587941636338, 27448098970818567, 54023883492884059, 102305705598210278, 147389924550257400, 148641288870400064, 155995321339849783, 200898048267462935, 202369545176637828, 264882333231965121, 267728530742702522, 268671367195911338, 271781656508459677, 292607709308972335, 301435144665447655, 327880779830247103, 333499316725738941, 344280948527967603, 361614354650880527, 363824806352919913, 374329072173397727, 381699973976932225, 434517017614495946, 436785895835580263, 468544970414285553, 490109768671667408, 495422936350381071, 520352373907677790, 534764222466712491, 548750006199694898, 582665477366900487, 599868086167624974, 627050427714622722, 627408625947732191, 670878778036881163, 674947025087085832, 692689608292948411, 693665567872370395, 701021893037319987, 712677817405323177, 753510015812479546, 753551422329466662, 781132119141619887, 782574897116966534, 784021501623342249, 801895594717772308, 813951249416003615, 816623031097334102, 865004478722151014, 881856221521045800, 899165159624701221, 907221355688076938, 908938729693125261, 909651159261292691, 915429212131112741, 953707509720613429, 983095443598229476, 989049974880576288, 997469202936578234, 998688566268269815, 1022806743657391407, 1037187242736800310, 1056179711361543558, 1059826223086140014, 1070632260016389736, 1072886587484133150, 1097401149118884075, 1104652557829563522, 1116121227607581999, 1120069409160402054, 1163668879480930452, 1178253609400958886, 1199529879715590322, 1200132673411527362, 1202287501580555390, 1234962692819082604, 1294815114730489475, 1296936597887557880, 1306495113310433590, 1311167471776689091, 1314381940843524798, 1317292353478724560, 1365060072341041043, 1367440638985257517, 1374824663945909617, 1377941589660984019, 1417592850229997386, 1455185896278818838, 1462681248589415568, 1473125618302310292, 1492042537097239970, 1493119272824026132, 1498116869772772394, 1538315580625707373, 1539552466471655556, 1560134519462672730, 1598729374254679339, 1623838599684589103, 1671960877913596679, 1673026171377815127, 1693920335354805642, 1697979965458795260, 1716230101302949859, 1720358903345561796, 1722265956540512475, 1748162647671155552, 1754215888246437356, 1761626329244869141, 1763748489948355015, 1766257854965201953, 1771843275312644574, 1811781596621121379, 1842102772860934554, 1874422396201148365, 1895326251577378793, 1899224753659027997, 1908339160857512799, 1915826476552544131, 1929981821863611546, 1949009070102523745, 1960539917229374622, 1962800348704770740, 2002083152443772042, 2032181124951647555, 2062590537770243336, 2062670502532932588, 2092066876657604795, 2111379813881770134, 2146546851324474301, 2152278030365935011, 2183860428276579583, 2195040187466632600, 2207651454681143681, 2217185536926141514, 2217968793137479020, 2257339578739986222, 2279740393166882579, 2290322765105220968, 2318971825420092215, 2320740534295635804, 2320931034665819997, 2349820930531316047, 2366804926588454563, 2382182321331880703, 2405211284771043881, 2416280733544962613, 2446947580409722972, 2530443148414180019, 2542290381109225938, 2551221442168658664, 2553895156129400476, 2597011162480707820, 2612012348742830907, 2652684983165843086, 2653698047369148236, 2682799999279860984, 2698350543662359063, 2710839964657524617, 2736634093130347762, 2742184667238777387, 2754566407772265068, 2758633233367218711, 2760160224512620259, 2766187446275090740, 2785512916786763092, 2805413569924963145, 2811220157680321451, 2828232395245246552, 2833428826475063405, 2873028073541627603, 2878978621264298198, 2891568537595470094, 2901546026085255870, 2903276950629630374, 2944202749145946530, 2947963873628556360, 2956253493737623301, 2959376686327377624, 2965795813240480461, 2966898457830124144, 2979037241414071705, 3005175913610348223, 3007736603136734729, 3009557673221751067, 3014865794683484443, 3024551089288349719, 3028038382445447853, 3035603429390266976, 3061140421699761127, 3061273947166110301, 3094513233385472738, 3106760029136205156, 3109240325511826829, 3117868596680657524, 3118792477913513242, 3138250281946918035, 3168119895433884486, 3168283140501778164, 3169151869928871334, 3217014177234377440, 3258998879061034753, 3262617661597841651, 3276989273780561693, 3290087150125937633, 3302556033962996625, 3375381077362025672, 3396828831632510915, 3413008167249007087, 3416948067212774732, 3429602690322213789, 3468719753199592246, 3469804916091663734, 3472075810981614387, 3494915559963121377, 3499125955852759846, 3508383192344282071, 3568240335801676264, 3576137684812235192, 3581462318368446161, 3586672003786969120, 3592784031357342393, 3599964226336487260, 3609194402293569455, 3617923130431400422, 3622641762376806537, 3631158903888752348, 3636910968448833585, 3637012274012079940, 3648848852703752699, 3649923015832992113, 3681539658619684640, 3694088851120856010, 3727379947077780682, 3734911646343191965, 3743121668889758064, 3743262342828860520, 3761892846624989548, 3763760030606782798, 3773993939681666059, 3813842765808990208, 3829784524040647339, 3843342266203043708, 3852137951376367218, 3856314584219831841, 3861743074882551715, 3877012245649171389, 3891637997717104548, 3915038251784681624, 3937943558206985686, 3938645257702379823, 3943833391732076335, 3948719927571797789, 3951178344539492760, 3975064578509078598, 4003231815629501248, 4020353388159569223, 4055846614004717711, 4063400901401648079, 4067645678703694326, 4079953840379998293, 4089451522605829298, 4110069906204072059, 4112820676974012466, 4142810830429822977, 4156846511612859158, 4160581188559697212, 4209517478660372522, 4227773676394505435, 4231150940887368692, 4235703649180530683, 4237436872789054577, 4254153380739593270, 4297386640890689301, 4309036796659976637, 4313045637915476309, 4313424003136719348, 4316004032341334816, 4335864930735272674, 4340306774493623681, 4402305355102966434, 4417246933621591943, 4426818790545324760, 4432373331608915019, 4448931013501667169, 4519830131595431685, 4531872167062142431, 4537318193229625884, 4538019749913665294, 4548917054177353037, 4568163094592867577, 4603346753290831004, 4624687138998541408, 4670267857749552625, 4672375507299551161, 4688306535438027974, 4699206643216946639, 4700771033189012708, 4724363485672980355, 4778050608932092852, 4791643529800239468, 4794949202379942794, 4795304184119033503, 4870191573331352123, 4889177802413345393, 4913740877702283721, 4918484843075254252, 4942487288765370891, 4946304010805340284, 4947619689618669252, 4965319960651517505, 4973223873869255414, 4989759812391042852, 4991824953436022802, 5000549443219971803, 5019290970146412524, 5030175185311671155, 5127072228892237265, 5127372011815639401, 5164414299609762297, 5175412143320664868, 5200962297848391505, 5206835909720479405, 5220802546024427652, 5226673542598775232, 5263287149644492961, 5285998971508885394, 5287342266016283959, 5316031233920901237, 5321535590192312132, 5327824330504712485, 5328649570833345873, 5331529367419076871, 5357244621297233547, 5374042110958693409, 5404470824348262768, 5443789138803907929, 5447073013858620840, 5467013274030405401, 5469217996124449648, 5489180667547554980, 5497189205340943824, 5512723557838096173, 5565776571801586229, 5598109800222509376, 5598537709124463353, 5621833459783231486, 5640522320021444231, 5660542693104786364, 5663484293775216130, 5664882385083540533, 5683029675627635125, 5683958305498326032, 5693632915986723060, 5705041016417759824, 5707382540067831352, 5713241217519616260, 5746645399823844475, 5755601244020790176, 5758100189335708355, 5851603283697446214, 5853826697811091550, 5867547777922915203, 5885230890202679862, 5907617845968952831, 5914788199018040446, 5970634102483953353, 6003902177042843076, 6013226412048763966, 6013800624570706808, 6018247344671480458, 6025457302462074178, 6034233372333743148, 6040926917589508037, 6065857749689775301, 6090234987314110812, 6120111409505648242, 6136591349108383474, 6176664770623035795, 6177317203370394776, 6186967354004372292, 6196511437047227700, 6226325986476849014, 6247767575778104994, 6259736937759908767, 6261180175389146557, 6315091808248158885, 6354670420844196172, 6408246065272657336, 6409254426985102122, 6464364285286199002, 6465469928207780773, 6489937596283721990, 6500990175526024713, 6525511498345160052, 6546316929334980944, 6557658036958641588, 6571439471025671820, 6574579966911353978, 6590718530693270591, 6607840428081955009, 6634405260717362812, 6643737413460895729, 6644119361202586331, 6646901263143710184, 6648370769037295216, 6650574433856141080, 6666652852815687733, 6675870946781601732, 6686431125336194142, 6686977580828209471, 6719657604701927366, 6735372008307093370, 6756039155228175109, 6767912612638555664, 6773859371279096371, 6808447563258229576, 6842776165746724681, 6852303461450629547, 6860472782621321785, 6879394870211872116, 6921649833761206472, 6935578859207277054, 6947583688031316012, 6952115305755720966, 6960073744377754728, 6967147874415599925, 6970482293998499949, 6971525809430309144, 6999578934585823267, 7001798922437039535, 7004923583685899415, 7020155836312304353, 7022645187549453002, 7032629593137936425, 7047489233409645826, 7048619884024295715, 7056830237116201003, 7072373334511597461, 7131993520591621461, 7157933165055102118, 7167124757087633794, 7181121382861702936, 7184257542854236266, 7192340689726207788, 7193191844620858589, 7208764727755771951, 7215563157885540458, 7235668197683658513, 7293029244157928140, 7293456872726425233, 7302126548210559734, 7308881151087125462, 7316935598591113280, 7337097409801560661, 7392990465409599343, 7410250256723888301, 7421498048184238966, 7438444945156715220, 7450357541426294610, 7459660693589256038, 7477658738278650537, 7518465061839634935, 7527226129639571966, 7530102388348371118, 7554279798570266254, 7555752854236030786, 7563882320191729616, 7565903375902761063, 7580644064067188685, 7584856762328012632, 7585672106741478592, 7591088849912178995, 7606269372482386958, 7640646622715356888, 7645894863578715801, 7660434827542910956, 7696404421947461044, 7703284633155187943, 7704379999515121028, 7705707768530115638, 7712504245368411024, 7733918951272853713, 7741213197781008422, 7774613525190730745, 7780048623954214635, 7781822014935525018, 7842090627885077038, 7845017617453570455, 7857964154553078459, 7866703251910305848, 7869282721414305216, 7871236101796363710, 7888432621799586316, 7890134385692540512, 7948079555216525045, 7977599065228355745, 7984451585080990517, 8006128198708352549, 8029287010580464803, 8048317748792196979, 8051175896420731576, 8068551513309549144, 8113324517692556322, 8144386916269720437, 8164031568920151381, 8180111365399889286, 8189031666388954162, 8195788452563155020, 8236260669729422750, 8237333675050684529, 8239286975497580612, 8243474948679935093, 8250502084456448386, 8261378399174507610, 8271619811366074205, 8323853447348356571, 8341545449730058951, 8354413736311351349, 8368708280460693260, 8389544657102033065, 8414731042150985013, 8418615305660062636, 8420481937548705787, 8437083040455072898, 8494103216511135887, 8508358165038280975, 8516310373487915663, 8531798655176011897, 8540709753752328723, 8548560600301988018, 8556982196776583357, 8562738815734604501, 8572969747961902966, 8573995950821939440, 8615245686887763683, 8642864254981528773, 8652251853329201030, 8663735706448940860, 8676130229735483748, 8676384235153995185, 8698209668239173600, 8743523484464839146, 8745559424774781326, 8754745127801506293, 8759620187357735368, 8766802480854827422, 8791271631167250981, 8801420707973230165, 8801970869404590779, 8813266398846460512, 8841741572929644986, 8847054836611412804, 8855523843512271162, 8862260182894039021, 8872819156169667456, 8874741321583329336, 8879844298911979276, 8892482595912468268, 8907499588729810535, 8913362709216003291, 8920667914865172372, 8940614478925413056, 8941502917401491878, 8961723342122872302, 8965285988346645117, 8968131284214320024, 8982783231149017560, 8992729171160464416, 9013651444868609421, 9033898219489253274, 9037410398700100618, 9038446466275805109, 9050204922960952289, 9090527742744334314, 9091970136990402395, 9102085903669288476, 9105269044962898535, 9109075639526981934, 9135582630122950040, 9137372837662939523, 9148269800512008413, 9165571805999894845, 9187866633451383747, 9191849144618614467, 9199170757466086545, 9210530975708218054])\n"
          ],
          "name": "stdout"
        }
      ]
    },
    {
      "cell_type": "code",
      "metadata": {
        "id": "5jAx6d9vFlAC",
        "colab_type": "code",
        "outputId": "01eb7bf9-d536-4b1c-ca05-c623547112cf",
        "colab": {
          "base_uri": "https://localhost:8080/",
          "height": 34
        }
      },
      "source": [
        "myprofile = user_profiles[-9223121837663643404]\n",
        "print(myprofile.shape)"
      ],
      "execution_count": 0,
      "outputs": [
        {
          "output_type": "stream",
          "text": [
            "(1, 5000)\n"
          ],
          "name": "stdout"
        }
      ]
    },
    {
      "cell_type": "code",
      "metadata": {
        "id": "LclZirrfFj06",
        "colab_type": "code",
        "outputId": "1b8160ea-2396-460f-d36f-07284034aec2",
        "colab": {
          "base_uri": "https://localhost:8080/",
          "height": 669
        }
      },
      "source": [
        "pd.DataFrame(sorted(zip(tfidf_feature_names, \n",
        "                        myprofile.flatten().tolist()), key=lambda x: -x[1])[:20],\n",
        "             columns=['token', 'relevance'])"
      ],
      "execution_count": 0,
      "outputs": [
        {
          "output_type": "execute_result",
          "data": {
            "text/html": [
              "<div>\n",
              "<style scoped>\n",
              "    .dataframe tbody tr th:only-of-type {\n",
              "        vertical-align: middle;\n",
              "    }\n",
              "\n",
              "    .dataframe tbody tr th {\n",
              "        vertical-align: top;\n",
              "    }\n",
              "\n",
              "    .dataframe thead th {\n",
              "        text-align: right;\n",
              "    }\n",
              "</style>\n",
              "<table border=\"1\" class=\"dataframe\">\n",
              "  <thead>\n",
              "    <tr style=\"text-align: right;\">\n",
              "      <th></th>\n",
              "      <th>token</th>\n",
              "      <th>relevance</th>\n",
              "    </tr>\n",
              "  </thead>\n",
              "  <tbody>\n",
              "    <tr>\n",
              "      <th>0</th>\n",
              "      <td>google</td>\n",
              "      <td>0.264311</td>\n",
              "    </tr>\n",
              "    <tr>\n",
              "      <th>1</th>\n",
              "      <td>android</td>\n",
              "      <td>0.134612</td>\n",
              "    </tr>\n",
              "    <tr>\n",
              "      <th>2</th>\n",
              "      <td>teste</td>\n",
              "      <td>0.117203</td>\n",
              "    </tr>\n",
              "    <tr>\n",
              "      <th>3</th>\n",
              "      <td>code</td>\n",
              "      <td>0.113804</td>\n",
              "    </tr>\n",
              "    <tr>\n",
              "      <th>4</th>\n",
              "      <td>cloud</td>\n",
              "      <td>0.105702</td>\n",
              "    </tr>\n",
              "    <tr>\n",
              "      <th>5</th>\n",
              "      <td>espresso</td>\n",
              "      <td>0.104444</td>\n",
              "    </tr>\n",
              "    <tr>\n",
              "      <th>6</th>\n",
              "      <td>app</td>\n",
              "      <td>0.097841</td>\n",
              "    </tr>\n",
              "    <tr>\n",
              "      <th>7</th>\n",
              "      <td>apple</td>\n",
              "      <td>0.096864</td>\n",
              "    </tr>\n",
              "    <tr>\n",
              "      <th>8</th>\n",
              "      <td>digital</td>\n",
              "      <td>0.093107</td>\n",
              "    </tr>\n",
              "    <tr>\n",
              "      <th>9</th>\n",
              "      <td>candidate</td>\n",
              "      <td>0.088624</td>\n",
              "    </tr>\n",
              "    <tr>\n",
              "      <th>10</th>\n",
              "      <td>time</td>\n",
              "      <td>0.088056</td>\n",
              "    </tr>\n",
              "    <tr>\n",
              "      <th>11</th>\n",
              "      <td>intent</td>\n",
              "      <td>0.085404</td>\n",
              "    </tr>\n",
              "    <tr>\n",
              "      <th>12</th>\n",
              "      <td>api</td>\n",
              "      <td>0.082746</td>\n",
              "    </tr>\n",
              "    <tr>\n",
              "      <th>13</th>\n",
              "      <td>mobile</td>\n",
              "      <td>0.082497</td>\n",
              "    </tr>\n",
              "    <tr>\n",
              "      <th>14</th>\n",
              "      <td>work</td>\n",
              "      <td>0.076516</td>\n",
              "    </tr>\n",
              "    <tr>\n",
              "      <th>15</th>\n",
              "      <td>java</td>\n",
              "      <td>0.075715</td>\n",
              "    </tr>\n",
              "    <tr>\n",
              "      <th>16</th>\n",
              "      <td>apps</td>\n",
              "      <td>0.075124</td>\n",
              "    </tr>\n",
              "    <tr>\n",
              "      <th>17</th>\n",
              "      <td>ser</td>\n",
              "      <td>0.074775</td>\n",
              "    </tr>\n",
              "    <tr>\n",
              "      <th>18</th>\n",
              "      <td>company</td>\n",
              "      <td>0.074409</td>\n",
              "    </tr>\n",
              "    <tr>\n",
              "      <th>19</th>\n",
              "      <td>business</td>\n",
              "      <td>0.071627</td>\n",
              "    </tr>\n",
              "  </tbody>\n",
              "</table>\n",
              "</div>"
            ],
            "text/plain": [
              "        token  relevance\n",
              "0      google   0.264311\n",
              "1     android   0.134612\n",
              "2       teste   0.117203\n",
              "3        code   0.113804\n",
              "4       cloud   0.105702\n",
              "5    espresso   0.104444\n",
              "6         app   0.097841\n",
              "7       apple   0.096864\n",
              "8     digital   0.093107\n",
              "9   candidate   0.088624\n",
              "10       time   0.088056\n",
              "11     intent   0.085404\n",
              "12        api   0.082746\n",
              "13     mobile   0.082497\n",
              "14       work   0.076516\n",
              "15       java   0.075715\n",
              "16       apps   0.075124\n",
              "17        ser   0.074775\n",
              "18    company   0.074409\n",
              "19   business   0.071627"
            ]
          },
          "metadata": {
            "tags": []
          },
          "execution_count": 68
        }
      ]
    },
    {
      "cell_type": "code",
      "metadata": {
        "id": "dJvUEKKuHM_V",
        "colab_type": "code",
        "colab": {}
      },
      "source": [
        "# CF modeling\n",
        "class ContentBasedRecommender:\n",
        "    \n",
        "    MODEL_NAME = 'Content-Based'\n",
        "    \n",
        "    def __init__(self, items_df=None):\n",
        "        self.item_ids = item_ids\n",
        "        self.items_df = items_df\n",
        "\n",
        "    # 모델 이름 프린트용   \n",
        "    def get_model_name(self):\n",
        "        return self.MODEL_NAME\n",
        "\n",
        "    # 유저 프로파일 기반으로 아이템 추천해줌   \n",
        "    def _get_similar_items_to_user_profile(self, person_id, topn=1000):\n",
        "        #Computes the cosine similarity between the user profile and all item profiles\n",
        "        # 코사인 유사도 함수로 유사도 벡터 생성\n",
        "        cosine_similarities = cosine_similarity(user_profiles[person_id], tfidf_matrix)\n",
        "        #Gets the top similar items : 자료형 전처리 방식 아주 굿\n",
        "        similar_indices = cosine_similarities.argsort().flatten()[-topn:]\n",
        "        #Sort the similar items by similarity\n",
        "        similar_items = sorted([(item_ids[i], cosine_similarities[0,i]) for i in similar_indices], key=lambda x: -x[1])\n",
        "        return similar_items\n",
        "\n",
        "    # 추천 결과 아웃풋\n",
        "    def recommend_items(self, user_id, items_to_ignore=[], topn=10, verbose=False):\n",
        "        similar_items = self._get_similar_items_to_user_profile(user_id)\n",
        "        #Ignores items the user has already interacted (이미 산 제품 제외하여 리스트 생성)\n",
        "        similar_items_filtered = list(filter(lambda x: x[0] not in items_to_ignore, similar_items))\n",
        "        # 생성한 리스트를 컬럼 이름 지정하여 데이터프레임화\n",
        "        recommendations_df = pd.DataFrame(similar_items_filtered, columns=['contentId', 'recStrength']) \\\n",
        "                                    .head(topn)\n",
        "\n",
        "        # 혹시 item 이 없다고 뜰 경우 에러 핸들링, 추천 결과 아웃풋 튜닝\n",
        "        # verbose의 구체 의미는 부팅시 상세정보를 보여줌으로써, 어느부분에서 어떤 지연이 있는지 확인가능\n",
        "        if verbose = True:\n",
        "            if self.items_df is None:\n",
        "                raise Exception('\"items_df\" is required in verbose mode')\n",
        "\n",
        "            recommendations_df = recommendations_df.merge(self.items_df, how = 'left', \n",
        "                                                          left_on = 'contentId', \n",
        "                                                          right_on = 'contentId')[['recStrength', 'contentId', 'title', 'url', 'lang']]\n",
        "\n",
        "\n",
        "        return recommendations_df\n",
        "    \n",
        "content_based_recommender_model = ContentBasedRecommender(articles_df)"
      ],
      "execution_count": 0,
      "outputs": []
    },
    {
      "cell_type": "code",
      "metadata": {
        "id": "jmgauV3GFd_f",
        "colab_type": "code",
        "outputId": "7282f375-feac-4cb4-83b2-dabefb0aad49",
        "colab": {
          "base_uri": "https://localhost:8080/",
          "height": 464
        }
      },
      "source": [
        "print('Evaluating Content-Based Filtering model...')\n",
        "cb_global_metrics, cb_detailed_results_df = model_evaluator.evaluate_model(content_based_recommender_model)\n",
        "print('\\nGlobal metrics:\\n%s' % cb_global_metrics)\n",
        "cb_detailed_results_df.head(10)"
      ],
      "execution_count": 0,
      "outputs": [
        {
          "output_type": "stream",
          "text": [
            "Evaluating Content-Based Filtering model...\n",
            "1139 users processed\n",
            "\n",
            "Global metrics:\n",
            "{'modelName': 'Content-Based', 'recall@5': 0.41459984658655075, 'recall@10': 0.5241626182562005}\n"
          ],
          "name": "stdout"
        },
        {
          "output_type": "execute_result",
          "data": {
            "text/html": [
              "<div>\n",
              "<style scoped>\n",
              "    .dataframe tbody tr th:only-of-type {\n",
              "        vertical-align: middle;\n",
              "    }\n",
              "\n",
              "    .dataframe tbody tr th {\n",
              "        vertical-align: top;\n",
              "    }\n",
              "\n",
              "    .dataframe thead th {\n",
              "        text-align: right;\n",
              "    }\n",
              "</style>\n",
              "<table border=\"1\" class=\"dataframe\">\n",
              "  <thead>\n",
              "    <tr style=\"text-align: right;\">\n",
              "      <th></th>\n",
              "      <th>hits@5_count</th>\n",
              "      <th>hits@10_count</th>\n",
              "      <th>interacted_count</th>\n",
              "      <th>recall@5</th>\n",
              "      <th>recall@10</th>\n",
              "      <th>_person_id</th>\n",
              "    </tr>\n",
              "  </thead>\n",
              "  <tbody>\n",
              "    <tr>\n",
              "      <th>76</th>\n",
              "      <td>16</td>\n",
              "      <td>26</td>\n",
              "      <td>192</td>\n",
              "      <td>0.083333</td>\n",
              "      <td>0.135417</td>\n",
              "      <td>3609194402293569455</td>\n",
              "    </tr>\n",
              "    <tr>\n",
              "      <th>17</th>\n",
              "      <td>21</td>\n",
              "      <td>35</td>\n",
              "      <td>134</td>\n",
              "      <td>0.156716</td>\n",
              "      <td>0.261194</td>\n",
              "      <td>-2626634673110551643</td>\n",
              "    </tr>\n",
              "    <tr>\n",
              "      <th>16</th>\n",
              "      <td>22</td>\n",
              "      <td>34</td>\n",
              "      <td>130</td>\n",
              "      <td>0.169231</td>\n",
              "      <td>0.261538</td>\n",
              "      <td>-1032019229384696495</td>\n",
              "    </tr>\n",
              "    <tr>\n",
              "      <th>10</th>\n",
              "      <td>34</td>\n",
              "      <td>54</td>\n",
              "      <td>117</td>\n",
              "      <td>0.290598</td>\n",
              "      <td>0.461538</td>\n",
              "      <td>-1443636648652872475</td>\n",
              "    </tr>\n",
              "    <tr>\n",
              "      <th>82</th>\n",
              "      <td>8</td>\n",
              "      <td>15</td>\n",
              "      <td>88</td>\n",
              "      <td>0.090909</td>\n",
              "      <td>0.170455</td>\n",
              "      <td>-2979881261169775358</td>\n",
              "    </tr>\n",
              "    <tr>\n",
              "      <th>161</th>\n",
              "      <td>14</td>\n",
              "      <td>23</td>\n",
              "      <td>80</td>\n",
              "      <td>0.175000</td>\n",
              "      <td>0.287500</td>\n",
              "      <td>-3596626804281480007</td>\n",
              "    </tr>\n",
              "    <tr>\n",
              "      <th>65</th>\n",
              "      <td>10</td>\n",
              "      <td>15</td>\n",
              "      <td>73</td>\n",
              "      <td>0.136986</td>\n",
              "      <td>0.205479</td>\n",
              "      <td>1116121227607581999</td>\n",
              "    </tr>\n",
              "    <tr>\n",
              "      <th>81</th>\n",
              "      <td>11</td>\n",
              "      <td>20</td>\n",
              "      <td>69</td>\n",
              "      <td>0.159420</td>\n",
              "      <td>0.289855</td>\n",
              "      <td>692689608292948411</td>\n",
              "    </tr>\n",
              "    <tr>\n",
              "      <th>106</th>\n",
              "      <td>5</td>\n",
              "      <td>10</td>\n",
              "      <td>69</td>\n",
              "      <td>0.072464</td>\n",
              "      <td>0.144928</td>\n",
              "      <td>-9016528795238256703</td>\n",
              "    </tr>\n",
              "    <tr>\n",
              "      <th>52</th>\n",
              "      <td>4</td>\n",
              "      <td>11</td>\n",
              "      <td>68</td>\n",
              "      <td>0.058824</td>\n",
              "      <td>0.161765</td>\n",
              "      <td>3636910968448833585</td>\n",
              "    </tr>\n",
              "  </tbody>\n",
              "</table>\n",
              "</div>"
            ],
            "text/plain": [
              "     hits@5_count  hits@10_count  ...  recall@10           _person_id\n",
              "76             16             26  ...   0.135417  3609194402293569455\n",
              "17             21             35  ...   0.261194 -2626634673110551643\n",
              "16             22             34  ...   0.261538 -1032019229384696495\n",
              "10             34             54  ...   0.461538 -1443636648652872475\n",
              "82              8             15  ...   0.170455 -2979881261169775358\n",
              "161            14             23  ...   0.287500 -3596626804281480007\n",
              "65             10             15  ...   0.205479  1116121227607581999\n",
              "81             11             20  ...   0.289855   692689608292948411\n",
              "106             5             10  ...   0.144928 -9016528795238256703\n",
              "52              4             11  ...   0.161765  3636910968448833585\n",
              "\n",
              "[10 rows x 6 columns]"
            ]
          },
          "metadata": {
            "tags": []
          },
          "execution_count": 71
        }
      ]
    },
    {
      "cell_type": "markdown",
      "metadata": {
        "id": "YlL9PPi7Jqd1",
        "colab_type": "text"
      },
      "source": [
        "**메트릭 이해**\n",
        "- hitNcount: Verifying if the current interacted item is among the Top-N recommended items\n",
        "- Recall: the rate of the interacted items that are ranked among the Top-N recommended items, 이 리콜이 최종적인 추천 결과에 대한 지표  \n",
        "        #when mixed with a set of non-relevant items\n"
      ]
    },
    {
      "cell_type": "code",
      "metadata": {
        "id": "bzO14wJsMryS",
        "colab_type": "code",
        "outputId": "46b72005-4186-4988-d05a-d898b85046e7",
        "colab": {
          "base_uri": "https://localhost:8080/",
          "height": 379
        }
      },
      "source": [
        "cb_detailed_results_df.sort_values(by='recall@5',ascending=False).head(10)"
      ],
      "execution_count": 0,
      "outputs": [
        {
          "output_type": "execute_result",
          "data": {
            "text/html": [
              "<div>\n",
              "<style scoped>\n",
              "    .dataframe tbody tr th:only-of-type {\n",
              "        vertical-align: middle;\n",
              "    }\n",
              "\n",
              "    .dataframe tbody tr th {\n",
              "        vertical-align: top;\n",
              "    }\n",
              "\n",
              "    .dataframe thead th {\n",
              "        text-align: right;\n",
              "    }\n",
              "</style>\n",
              "<table border=\"1\" class=\"dataframe\">\n",
              "  <thead>\n",
              "    <tr style=\"text-align: right;\">\n",
              "      <th></th>\n",
              "      <th>hits@5_count</th>\n",
              "      <th>hits@10_count</th>\n",
              "      <th>interacted_count</th>\n",
              "      <th>recall@5</th>\n",
              "      <th>recall@10</th>\n",
              "      <th>_person_id</th>\n",
              "    </tr>\n",
              "  </thead>\n",
              "  <tbody>\n",
              "    <tr>\n",
              "      <th>59</th>\n",
              "      <td>4</td>\n",
              "      <td>4</td>\n",
              "      <td>4</td>\n",
              "      <td>1.0</td>\n",
              "      <td>1.0</td>\n",
              "      <td>-7566898119905906259</td>\n",
              "    </tr>\n",
              "    <tr>\n",
              "      <th>484</th>\n",
              "      <td>3</td>\n",
              "      <td>3</td>\n",
              "      <td>3</td>\n",
              "      <td>1.0</td>\n",
              "      <td>1.0</td>\n",
              "      <td>-2233054196721773008</td>\n",
              "    </tr>\n",
              "    <tr>\n",
              "      <th>366</th>\n",
              "      <td>3</td>\n",
              "      <td>3</td>\n",
              "      <td>3</td>\n",
              "      <td>1.0</td>\n",
              "      <td>1.0</td>\n",
              "      <td>-663224541983667655</td>\n",
              "    </tr>\n",
              "    <tr>\n",
              "      <th>488</th>\n",
              "      <td>3</td>\n",
              "      <td>3</td>\n",
              "      <td>3</td>\n",
              "      <td>1.0</td>\n",
              "      <td>1.0</td>\n",
              "      <td>3117868596680657524</td>\n",
              "    </tr>\n",
              "    <tr>\n",
              "      <th>258</th>\n",
              "      <td>3</td>\n",
              "      <td>3</td>\n",
              "      <td>3</td>\n",
              "      <td>1.0</td>\n",
              "      <td>1.0</td>\n",
              "      <td>8437083040455072898</td>\n",
              "    </tr>\n",
              "    <tr>\n",
              "      <th>306</th>\n",
              "      <td>3</td>\n",
              "      <td>3</td>\n",
              "      <td>3</td>\n",
              "      <td>1.0</td>\n",
              "      <td>1.0</td>\n",
              "      <td>2891568537595470094</td>\n",
              "    </tr>\n",
              "    <tr>\n",
              "      <th>150</th>\n",
              "      <td>3</td>\n",
              "      <td>3</td>\n",
              "      <td>3</td>\n",
              "      <td>1.0</td>\n",
              "      <td>1.0</td>\n",
              "      <td>2597011162480707820</td>\n",
              "    </tr>\n",
              "    <tr>\n",
              "      <th>333</th>\n",
              "      <td>3</td>\n",
              "      <td>3</td>\n",
              "      <td>3</td>\n",
              "      <td>1.0</td>\n",
              "      <td>1.0</td>\n",
              "      <td>7316935598591113280</td>\n",
              "    </tr>\n",
              "    <tr>\n",
              "      <th>99</th>\n",
              "      <td>3</td>\n",
              "      <td>3</td>\n",
              "      <td>3</td>\n",
              "      <td>1.0</td>\n",
              "      <td>1.0</td>\n",
              "      <td>7004923583685899415</td>\n",
              "    </tr>\n",
              "    <tr>\n",
              "      <th>575</th>\n",
              "      <td>3</td>\n",
              "      <td>3</td>\n",
              "      <td>3</td>\n",
              "      <td>1.0</td>\n",
              "      <td>1.0</td>\n",
              "      <td>8892482595912468268</td>\n",
              "    </tr>\n",
              "  </tbody>\n",
              "</table>\n",
              "</div>"
            ],
            "text/plain": [
              "     hits@5_count  hits@10_count  ...  recall@10           _person_id\n",
              "59              4              4  ...        1.0 -7566898119905906259\n",
              "484             3              3  ...        1.0 -2233054196721773008\n",
              "366             3              3  ...        1.0  -663224541983667655\n",
              "488             3              3  ...        1.0  3117868596680657524\n",
              "258             3              3  ...        1.0  8437083040455072898\n",
              "306             3              3  ...        1.0  2891568537595470094\n",
              "150             3              3  ...        1.0  2597011162480707820\n",
              "333             3              3  ...        1.0  7316935598591113280\n",
              "99              3              3  ...        1.0  7004923583685899415\n",
              "575             3              3  ...        1.0  8892482595912468268\n",
              "\n",
              "[10 rows x 6 columns]"
            ]
          },
          "metadata": {
            "tags": []
          },
          "execution_count": 75
        }
      ]
    },
    {
      "cell_type": "code",
      "metadata": {
        "id": "9HYc46MNMxEe",
        "colab_type": "code",
        "outputId": "7368ae9c-289a-4a1e-d66e-c18af0ae77eb",
        "colab": {
          "base_uri": "https://localhost:8080/",
          "height": 317
        }
      },
      "source": [
        "cb_detailed_results_df.describe()"
      ],
      "execution_count": 0,
      "outputs": [
        {
          "output_type": "execute_result",
          "data": {
            "text/html": [
              "<div>\n",
              "<style scoped>\n",
              "    .dataframe tbody tr th:only-of-type {\n",
              "        vertical-align: middle;\n",
              "    }\n",
              "\n",
              "    .dataframe tbody tr th {\n",
              "        vertical-align: top;\n",
              "    }\n",
              "\n",
              "    .dataframe thead th {\n",
              "        text-align: right;\n",
              "    }\n",
              "</style>\n",
              "<table border=\"1\" class=\"dataframe\">\n",
              "  <thead>\n",
              "    <tr style=\"text-align: right;\">\n",
              "      <th></th>\n",
              "      <th>hits@5_count</th>\n",
              "      <th>hits@10_count</th>\n",
              "      <th>interacted_count</th>\n",
              "      <th>recall@5</th>\n",
              "      <th>recall@10</th>\n",
              "      <th>_person_id</th>\n",
              "    </tr>\n",
              "  </thead>\n",
              "  <tbody>\n",
              "    <tr>\n",
              "      <th>count</th>\n",
              "      <td>1140.000000</td>\n",
              "      <td>1140.000000</td>\n",
              "      <td>1140.000000</td>\n",
              "      <td>1140.000000</td>\n",
              "      <td>1140.000000</td>\n",
              "      <td>1.140000e+03</td>\n",
              "    </tr>\n",
              "    <tr>\n",
              "      <th>mean</th>\n",
              "      <td>2.844737</td>\n",
              "      <td>3.596491</td>\n",
              "      <td>6.861404</td>\n",
              "      <td>0.552488</td>\n",
              "      <td>0.622376</td>\n",
              "      <td>1.008195e+17</td>\n",
              "    </tr>\n",
              "    <tr>\n",
              "      <th>std</th>\n",
              "      <td>2.734605</td>\n",
              "      <td>4.011221</td>\n",
              "      <td>12.908814</td>\n",
              "      <td>0.396041</td>\n",
              "      <td>0.401584</td>\n",
              "      <td>5.470049e+18</td>\n",
              "    </tr>\n",
              "    <tr>\n",
              "      <th>min</th>\n",
              "      <td>0.000000</td>\n",
              "      <td>0.000000</td>\n",
              "      <td>1.000000</td>\n",
              "      <td>0.000000</td>\n",
              "      <td>0.000000</td>\n",
              "      <td>-9.223122e+18</td>\n",
              "    </tr>\n",
              "    <tr>\n",
              "      <th>25%</th>\n",
              "      <td>1.000000</td>\n",
              "      <td>2.000000</td>\n",
              "      <td>2.000000</td>\n",
              "      <td>0.142857</td>\n",
              "      <td>0.261452</td>\n",
              "      <td>-4.751794e+18</td>\n",
              "    </tr>\n",
              "    <tr>\n",
              "      <th>50%</th>\n",
              "      <td>2.000000</td>\n",
              "      <td>3.000000</td>\n",
              "      <td>3.000000</td>\n",
              "      <td>0.600000</td>\n",
              "      <td>0.750000</td>\n",
              "      <td>3.306900e+17</td>\n",
              "    </tr>\n",
              "    <tr>\n",
              "      <th>75%</th>\n",
              "      <td>4.000000</td>\n",
              "      <td>5.000000</td>\n",
              "      <td>7.000000</td>\n",
              "      <td>1.000000</td>\n",
              "      <td>1.000000</td>\n",
              "      <td>4.795038e+18</td>\n",
              "    </tr>\n",
              "    <tr>\n",
              "      <th>max</th>\n",
              "      <td>34.000000</td>\n",
              "      <td>54.000000</td>\n",
              "      <td>192.000000</td>\n",
              "      <td>1.000000</td>\n",
              "      <td>1.000000</td>\n",
              "      <td>9.210531e+18</td>\n",
              "    </tr>\n",
              "  </tbody>\n",
              "</table>\n",
              "</div>"
            ],
            "text/plain": [
              "       hits@5_count  hits@10_count  ...    recall@10    _person_id\n",
              "count   1140.000000    1140.000000  ...  1140.000000  1.140000e+03\n",
              "mean       2.844737       3.596491  ...     0.622376  1.008195e+17\n",
              "std        2.734605       4.011221  ...     0.401584  5.470049e+18\n",
              "min        0.000000       0.000000  ...     0.000000 -9.223122e+18\n",
              "25%        1.000000       2.000000  ...     0.261452 -4.751794e+18\n",
              "50%        2.000000       3.000000  ...     0.750000  3.306900e+17\n",
              "75%        4.000000       5.000000  ...     1.000000  4.795038e+18\n",
              "max       34.000000      54.000000  ...     1.000000  9.210531e+18\n",
              "\n",
              "[8 rows x 6 columns]"
            ]
          },
          "metadata": {
            "tags": []
          },
          "execution_count": 76
        }
      ]
    }
  ]
}